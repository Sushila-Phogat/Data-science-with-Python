{
  "nbformat": 4,
  "nbformat_minor": 0,
  "metadata": {
    "colab": {
      "name": "Untitled7.ipynb",
      "provenance": [],
      "authorship_tag": "ABX9TyMNNId0Ps+i0yF0kqk83HUR",
      "include_colab_link": true
    },
    "kernelspec": {
      "name": "python3",
      "display_name": "Python 3"
    }
  },
  "cells": [
    {
      "cell_type": "markdown",
      "metadata": {
        "id": "view-in-github",
        "colab_type": "text"
      },
      "source": [
        "<a href=\"https://colab.research.google.com/github/Sushila-Phogat/Data-science-with-Python/blob/master/PreInterviewTaskfinal.ipynb\" target=\"_parent\"><img src=\"https://colab.research.google.com/assets/colab-badge.svg\" alt=\"Open In Colab\"/></a>"
      ]
    },
    {
      "cell_type": "code",
      "metadata": {
        "id": "o4LahVIC6FJX",
        "colab_type": "code",
        "outputId": "0bd5a27e-ca9a-472a-a649-dce5080c0699",
        "colab": {
          "base_uri": "https://localhost:8080/",
          "height": 119
        }
      },
      "source": [
        "#importing necessary packages and data from my github account\n",
        "import pandas as pd\n",
        "import numpy as np\n",
        "df=pd.read_csv('https://raw.githubusercontent.com/Sushila-Phogat/colabtools/master/PreInterviewTaskData.csv')\n",
        "data=df\n",
        "data=pd.DataFrame(data)\n",
        "print(data.head())"
      ],
      "execution_count": 67,
      "outputs": [
        {
          "output_type": "stream",
          "text": [
            "  account        date  fraud merchant\n",
            "0      A0  01/01/2015  False      M98\n",
            "1      A0  01/01/2015  False      M50\n",
            "2      A0  01/01/2015  False      M55\n",
            "3      A0  01/01/2015  False      M14\n",
            "4      A0  01/01/2015  False      M10\n"
          ],
          "name": "stdout"
        }
      ]
    },
    {
      "cell_type": "code",
      "metadata": {
        "id": "YX25SmaBH9U9",
        "colab_type": "code",
        "colab": {
          "base_uri": "https://localhost:8080/",
          "height": 173
        },
        "outputId": "54394cd1-21a5-40f4-930d-55f0b41532fc"
      },
      "source": [
        "#Describing main deatils of dataset\n",
        "data.describe()"
      ],
      "execution_count": 73,
      "outputs": [
        {
          "output_type": "execute_result",
          "data": {
            "text/html": [
              "<div>\n",
              "<style scoped>\n",
              "    .dataframe tbody tr th:only-of-type {\n",
              "        vertical-align: middle;\n",
              "    }\n",
              "\n",
              "    .dataframe tbody tr th {\n",
              "        vertical-align: top;\n",
              "    }\n",
              "\n",
              "    .dataframe thead th {\n",
              "        text-align: right;\n",
              "    }\n",
              "</style>\n",
              "<table border=\"1\" class=\"dataframe\">\n",
              "  <thead>\n",
              "    <tr style=\"text-align: right;\">\n",
              "      <th></th>\n",
              "      <th>account</th>\n",
              "      <th>date</th>\n",
              "      <th>fraud</th>\n",
              "      <th>merchant</th>\n",
              "    </tr>\n",
              "  </thead>\n",
              "  <tbody>\n",
              "    <tr>\n",
              "      <th>count</th>\n",
              "      <td>89851</td>\n",
              "      <td>89851</td>\n",
              "      <td>89851</td>\n",
              "      <td>89851</td>\n",
              "    </tr>\n",
              "    <tr>\n",
              "      <th>unique</th>\n",
              "      <td>1000</td>\n",
              "      <td>30</td>\n",
              "      <td>2</td>\n",
              "      <td>100</td>\n",
              "    </tr>\n",
              "    <tr>\n",
              "      <th>top</th>\n",
              "      <td>A831</td>\n",
              "      <td>12/01/2015</td>\n",
              "      <td>False</td>\n",
              "      <td>M8</td>\n",
              "    </tr>\n",
              "    <tr>\n",
              "      <th>freq</th>\n",
              "      <td>121</td>\n",
              "      <td>3081</td>\n",
              "      <td>88503</td>\n",
              "      <td>998</td>\n",
              "    </tr>\n",
              "  </tbody>\n",
              "</table>\n",
              "</div>"
            ],
            "text/plain": [
              "       account        date  fraud merchant\n",
              "count    89851       89851  89851    89851\n",
              "unique    1000          30      2      100\n",
              "top       A831  12/01/2015  False       M8\n",
              "freq       121        3081  88503      998"
            ]
          },
          "metadata": {
            "tags": []
          },
          "execution_count": 73
        }
      ]
    },
    {
      "cell_type": "code",
      "metadata": {
        "id": "8ylWId0_E57l",
        "colab_type": "code",
        "colab": {
          "base_uri": "https://localhost:8080/",
          "height": 173
        },
        "outputId": "023632a3-5c5b-42ea-b315-a9819a8c0bc7"
      },
      "source": [
        "#Describing main deatils of dataset for Defrauded transaction\n",
        "data[(data['fraud'].astype(str).str.strip()=='False')].describe()"
      ],
      "execution_count": 75,
      "outputs": [
        {
          "output_type": "execute_result",
          "data": {
            "text/html": [
              "<div>\n",
              "<style scoped>\n",
              "    .dataframe tbody tr th:only-of-type {\n",
              "        vertical-align: middle;\n",
              "    }\n",
              "\n",
              "    .dataframe tbody tr th {\n",
              "        vertical-align: top;\n",
              "    }\n",
              "\n",
              "    .dataframe thead th {\n",
              "        text-align: right;\n",
              "    }\n",
              "</style>\n",
              "<table border=\"1\" class=\"dataframe\">\n",
              "  <thead>\n",
              "    <tr style=\"text-align: right;\">\n",
              "      <th></th>\n",
              "      <th>account</th>\n",
              "      <th>date</th>\n",
              "      <th>fraud</th>\n",
              "      <th>merchant</th>\n",
              "    </tr>\n",
              "  </thead>\n",
              "  <tbody>\n",
              "    <tr>\n",
              "      <th>count</th>\n",
              "      <td>88503</td>\n",
              "      <td>88503</td>\n",
              "      <td>88503</td>\n",
              "      <td>88503</td>\n",
              "    </tr>\n",
              "    <tr>\n",
              "      <th>unique</th>\n",
              "      <td>1000</td>\n",
              "      <td>30</td>\n",
              "      <td>1</td>\n",
              "      <td>100</td>\n",
              "    </tr>\n",
              "    <tr>\n",
              "      <th>top</th>\n",
              "      <td>A831</td>\n",
              "      <td>01/01/2015</td>\n",
              "      <td>False</td>\n",
              "      <td>M8</td>\n",
              "    </tr>\n",
              "    <tr>\n",
              "      <th>freq</th>\n",
              "      <td>119</td>\n",
              "      <td>3051</td>\n",
              "      <td>88503</td>\n",
              "      <td>985</td>\n",
              "    </tr>\n",
              "  </tbody>\n",
              "</table>\n",
              "</div>"
            ],
            "text/plain": [
              "       account        date  fraud merchant\n",
              "count    88503       88503  88503    88503\n",
              "unique    1000          30      1      100\n",
              "top       A831  01/01/2015  False       M8\n",
              "freq       119        3051  88503      985"
            ]
          },
          "metadata": {
            "tags": []
          },
          "execution_count": 75
        }
      ]
    },
    {
      "cell_type": "code",
      "metadata": {
        "id": "ZmvYrCSmIX4n",
        "colab_type": "code",
        "colab": {
          "base_uri": "https://localhost:8080/",
          "height": 173
        },
        "outputId": "19b62dcf-bf4e-4dc0-d705-f84836b75841"
      },
      "source": [
        "#Describing main deatils of dataset for frauded transaction\n",
        "data[(data['fraud'].astype(str).str.strip()=='True')].describe()"
      ],
      "execution_count": 76,
      "outputs": [
        {
          "output_type": "execute_result",
          "data": {
            "text/html": [
              "<div>\n",
              "<style scoped>\n",
              "    .dataframe tbody tr th:only-of-type {\n",
              "        vertical-align: middle;\n",
              "    }\n",
              "\n",
              "    .dataframe tbody tr th {\n",
              "        vertical-align: top;\n",
              "    }\n",
              "\n",
              "    .dataframe thead th {\n",
              "        text-align: right;\n",
              "    }\n",
              "</style>\n",
              "<table border=\"1\" class=\"dataframe\">\n",
              "  <thead>\n",
              "    <tr style=\"text-align: right;\">\n",
              "      <th></th>\n",
              "      <th>account</th>\n",
              "      <th>date</th>\n",
              "      <th>fraud</th>\n",
              "      <th>merchant</th>\n",
              "    </tr>\n",
              "  </thead>\n",
              "  <tbody>\n",
              "    <tr>\n",
              "      <th>count</th>\n",
              "      <td>1348</td>\n",
              "      <td>1348</td>\n",
              "      <td>1348</td>\n",
              "      <td>1348</td>\n",
              "    </tr>\n",
              "    <tr>\n",
              "      <th>unique</th>\n",
              "      <td>617</td>\n",
              "      <td>30</td>\n",
              "      <td>1</td>\n",
              "      <td>100</td>\n",
              "    </tr>\n",
              "    <tr>\n",
              "      <th>top</th>\n",
              "      <td>A425</td>\n",
              "      <td>22/01/2015</td>\n",
              "      <td>True</td>\n",
              "      <td>M57</td>\n",
              "    </tr>\n",
              "    <tr>\n",
              "      <th>freq</th>\n",
              "      <td>16</td>\n",
              "      <td>188</td>\n",
              "      <td>1348</td>\n",
              "      <td>22</td>\n",
              "    </tr>\n",
              "  </tbody>\n",
              "</table>\n",
              "</div>"
            ],
            "text/plain": [
              "       account        date fraud merchant\n",
              "count     1348        1348  1348     1348\n",
              "unique     617          30     1      100\n",
              "top       A425  22/01/2015  True      M57\n",
              "freq        16         188  1348       22"
            ]
          },
          "metadata": {
            "tags": []
          },
          "execution_count": 76
        }
      ]
    },
    {
      "cell_type": "code",
      "metadata": {
        "id": "uuJeQ5XqpYWJ",
        "colab_type": "code",
        "outputId": "dccf9926-5007-4a44-94d3-1e4e3958b0f3",
        "colab": {
          "base_uri": "https://localhost:8080/",
          "height": 34
        }
      },
      "source": [
        "# Total number of accounts which are exploited\n",
        "len(set(data[(data['fraud'].astype(str).str.strip()=='True')]['account']).intersection(set(data[(data['fraud'].astype(str).str.strip()=='True')]['account'])))"
      ],
      "execution_count": 0,
      "outputs": [
        {
          "output_type": "execute_result",
          "data": {
            "text/plain": [
              "617"
            ]
          },
          "metadata": {
            "tags": []
          },
          "execution_count": 37
        }
      ]
    },
    {
      "cell_type": "code",
      "metadata": {
        "id": "Xfll_TImGn3V",
        "colab_type": "code",
        "colab": {}
      },
      "source": [
        "# Function to Detection Outlier on one-dimentional datasets.\n",
        "def find_anomalies(random_data,st):\n",
        "    anomalies = []\n",
        "    # Set upper and lower limit to st standard deviation\n",
        "    random_data_std = np.std(random_data)\n",
        "    random_data_mean = np.mean(random_data)\n",
        "    anomaly_cut_off = random_data_std * st\n",
        "    upper_limit = random_data_mean + anomaly_cut_off\n",
        "    \n",
        "    # Generate outliers\n",
        "    for outlier in random_data:\n",
        "        if outlier > upper_limit:\n",
        "            anomalies.append(outlier)\n",
        "            anomalies.append(outlier-upper_limit)\n",
        "    return anomalies\n"
      ],
      "execution_count": 0,
      "outputs": []
    },
    {
      "cell_type": "code",
      "metadata": {
        "id": "X7o1FRdy74_A",
        "colab_type": "code",
        "outputId": "e59ac71b-7874-45fe-8034-5b04c2a82e31",
        "colab": {
          "base_uri": "https://localhost:8080/",
          "height": 71
        }
      },
      "source": [
        "#find exploitation dates with counts and accounts on base of result of anomalies detection function\n",
        "expltalldict={}\n",
        "exploitdt={}\n",
        "expltacnt=[]\n",
        "exploitrst=[]\n",
        "inp=find_anomalies(data[(data['fraud'].astype(str).str.strip()=='True')].groupby(['date']).count().iloc[:,-1],2.5) #datewise counts of all frauded transactions\n",
        "exploitrst.extend(inp) #Exploitation result of frauded transactions count\n",
        "for i in data[(data['fraud'].astype(str).str.strip()=='True')]['date'].unique():\n",
        "  for j in data[(data['fraud'].astype(str).str.strip()=='True') & (data['date']==i)].groupby(['date']).count().iloc[:,-1]:\n",
        "    expltalldict.update({i:j}) #all dates and its counts of all frauded transactions\n",
        "\n",
        "#Creating dictionary with abnormal dates and its frauded transactions count \n",
        "for i in range(len(exploitrst)):\n",
        "    for (key, value) in expltalldict.items():\n",
        "      if str(value) == str(exploitrst[i]):\n",
        "        exploitdt.update({str(key):str(value)}) \n",
        "        expltacnt.extend(data[(data['fraud'].astype(str).str.strip()=='True') & (data['date']==key)]['account'].unique()) #List of all exploited accounts\n",
        "print('Exploitation dates with counts of Transaction on base of abnormality',exploitdt)\n",
        "print('Unique accounts which exploited during above mentioned exploition dates',set(expltacnt))\n"
      ],
      "execution_count": 84,
      "outputs": [
        {
          "output_type": "stream",
          "text": [
            "Exploitation dates with counts of Transaction on base of abnormality {'21/01/2015': '184', '22/01/2015': '188', '23/01/2015': '179'}\n",
            "Unique accounts which exploited during above mentioned exploition dates {'A238', 'A355', 'A817', 'A493', 'A581', 'A90', 'A284', 'A183', 'A896', 'A283', 'A556', 'A203', 'A270', 'A461', 'A882', 'A6', 'A657', 'A874', 'A541', 'A746', 'A973', 'A92', 'A951', 'A665', 'A69', 'A167', 'A381', 'A699', 'A468', 'A291', 'A485', 'A723', 'A148', 'A952', 'A610', 'A998', 'A330', 'A836', 'A824', 'A444', 'A655', 'A825', 'A379', 'A603', 'A57', 'A517', 'A841', 'A987', 'A781', 'A991', 'A166', 'A325', 'A122', 'A119', 'A385', 'A634', 'A560', 'A434', 'A318', 'A437', 'A8', 'A786', 'A682', 'A697', 'A435', 'A425', 'A942', 'A907', 'A921', 'A40', 'A490', 'A645', 'A943', 'A494', 'A551', 'A809', 'A145', 'A701', 'A930', 'A743', 'A726', 'A430', 'A727', 'A349', 'A802', 'A324', 'A615', 'A372', 'A837', 'A480', 'A16', 'A834', 'A403', 'A771', 'A731', 'A321', 'A111', 'A110', 'A397', 'A838', 'A704', 'A116', 'A299', 'A648', 'A210', 'A200', 'A334', 'A886', 'A902', 'A937', 'A353', 'A720', 'A308', 'A400', 'A443', 'A157', 'A568', 'A420', 'A395', 'A213', 'A474', 'A391', 'A215', 'A336', 'A475', 'A893', 'A469', 'A590', 'A154', 'A861', 'A787', 'A250', 'A392', 'A86', 'A667', 'A139', 'A728', 'A793', 'A914', 'A923', 'A273', 'A37', 'A702', 'A992', 'A182', 'A527', 'A32', 'A458'}\n"
          ],
          "name": "stdout"
        }
      ]
    },
    {
      "cell_type": "code",
      "metadata": {
        "id": "1FC5nOqEtE-W",
        "colab_type": "code",
        "outputId": "a4cef0ee-fe03-4b93-ed1a-60fd40509460",
        "colab": {
          "base_uri": "https://localhost:8080/",
          "height": 408
        }
      },
      "source": [
        "#Normal anlaysis without matching exploited accounts for abnormal defrauded transactions and creating anomlymer0 dictionary containing suspected compromised merchants with abnormality result\n",
        "dictdt={}\n",
        "anomlymer0={}\n",
        "for i in data[(data['fraud'].astype(str).str.strip()=='False')]['merchant'].unique():\n",
        "  inp=data[(data['fraud'].astype(str).str.strip()=='False') & (data['merchant'].astype(str).str.strip()==i)].groupby(['merchant','date']).count().iloc[:,-1]\n",
        "  result=find_anomalies(inp,2.5) #Check abnormality with anomaly_cut_off is 2.5 times of standard deviation\n",
        "  if len(result)!=0:\n",
        "    listOfdat=[]\n",
        "    for j in data[(data['fraud'].astype(str).str.strip()=='False') & (data['merchant'].astype(str).str.strip()==i)]['date'].unique():\n",
        "      for k in data[(data['fraud'].astype(str).str.strip()=='False') & (data['merchant'].astype(str).str.strip()==i) & (data['date'].astype(str).str.strip()==j)].groupby(['date']).count().iloc[:,-1]:\n",
        "        dictdt.update({str(j):str(k)})\n",
        "    for (key, value) in dictdt.items():\n",
        "      if str(value) == str(result[0]):\n",
        "        listOfdat = key\n",
        "        anomlymer0.update({str(i):str(key)})\n",
        "    print(i,listOfdat,result)\n"
      ],
      "execution_count": 7,
      "outputs": [
        {
          "output_type": "stream",
          "text": [
            "M98 12/01/2015 [42, 0.14938628074362015]\n",
            "M50 04/01/2015 [44, 3.5015247715286506]\n",
            "M14 28/01/2015 [45, 2.8772415372337434]\n",
            "M10 30/01/2015 [49, 3.543920565419654]\n",
            "M33 01/01/2015 [42, 1.9578696975417529]\n",
            "M26 15/01/2015 [45, 2.6509109647715334]\n",
            "M21 08/01/2015 [49, 3.2617184147262606, 46, 0.26171841472626056]\n",
            "M70 01/01/2015 [48, 3.6792698265290653]\n",
            "M69 14/01/2015 [49, 1.9607815473821546]\n",
            "M46 05/01/2015 [44, 1.0506869942160506]\n",
            "M12 24/01/2015 [44, 0.13020410527151682]\n",
            "M30 23/01/2015 [46, 2.7135563340304714]\n",
            "M41 04/01/2015 [44, 0.39702412580335533]\n",
            "M28 09/01/2015 [42, 1.1380962103093992]\n",
            "M93 01/01/2015 [43, 0.05891682380070051]\n",
            "M24 01/01/2015 [44, 1.0237084647307668]\n",
            "M76 15/01/2015 [43, 0.8322511278810367]\n",
            "M3 09/01/2015 [47, 0.16071777722640945]\n",
            "M45 01/01/2015 [42, 0.8917349728611654]\n",
            "M81 10/01/2015 [42, 0.36853645925264544]\n",
            "M75 08/01/2015 [42, 0.19895837402025762]\n",
            "M34 12/01/2015 [48, 4.012772858428619]\n",
            "M61 19/01/2015 [46, 2.354021250743891, 45, 1.354021250743891]\n"
          ],
          "name": "stdout"
        }
      ]
    },
    {
      "cell_type": "code",
      "metadata": {
        "id": "OGK2owdnduHW",
        "colab_type": "code",
        "colab": {
          "base_uri": "https://localhost:8080/",
          "height": 1000
        },
        "outputId": "7cc2ce95-a9ed-4510-949f-b72367a0c8a1"
      },
      "source": [
        "#Normal anlaysis with matching exploited accounts for abnormal defrauded transactions and creating anomlymer dictionary containing suspected compromised merchants with abnormality result\n",
        "anomlymer={}\n",
        "for j in data[(data['fraud'].astype(str).str.strip()=='False') ]['merchant'].unique():\n",
        "  inp=[]\n",
        "  dictdt={}\n",
        "  for i in data[(data['fraud'].astype(str).str.strip()=='False')]['date'].unique():\n",
        "    inp1=len(list(set(expltacnt).intersection(set(data[(data['fraud'].astype(str).str.strip()=='False') & (data['merchant'].astype(str).str.strip()==j) & (data['date'].astype(str).str.strip()==i)]['account'].unique()))))\n",
        "    inp.append(inp1)\n",
        "  result=find_anomalies(inp,1)  #Check abnormality with anomaly_cut_off is 1 times of standard deviation\n",
        "  if len(result)!=0:\n",
        "    listOfdat=[]\n",
        "    for i in data[(data['fraud'].astype(str).str.strip()=='False')]['date'].unique():\n",
        "      inp=len(set(expltacnt).intersection(set(data[(data['fraud'].astype(str).str.strip()=='False') & (data['merchant'].astype(str).str.strip()==j) & (data['date'].astype(str).str.strip()==i)]['account'].unique())))\n",
        "      dictdt.update({str(i):str(inp)})\n",
        "    for (key, value) in dictdt.items():\n",
        "      if str(value) == str(result[0]):\n",
        "        listOfdat = key\n",
        "        anomlymer.update({str(j):str(key)})\n",
        "  print(j,listOfdat,result)\n",
        "\n"
      ],
      "execution_count": 119,
      "outputs": [
        {
          "output_type": "stream",
          "text": [
            "M98 01/01/2015 [8, 2.272967209798548, 9, 3.272967209798548, 6, 0.2729672097985478, 6, 0.2729672097985478]\n",
            "M50 29/01/2015 [7, 0.8810735390189421, 8, 1.8810735390189421, 9, 2.881073539018942, 7, 0.8810735390189421, 7, 0.8810735390189421]\n",
            "M55 20/01/2015 [6, 0.3805039497961422, 7, 1.3805039497961422, 7, 1.3805039497961422, 6, 0.3805039497961422, 6, 0.3805039497961422, 6, 0.3805039497961422]\n",
            "M14 03/01/2015 [8, 2.140753851237399, 7, 1.140753851237399, 6, 0.14075385123739892, 10, 4.140753851237399]\n",
            "M10 02/01/2015 [8, 1.8454681465103784, 7, 0.8454681465103784, 7, 0.8454681465103784]\n",
            "M33 03/01/2015 [7, 1.4553995067804273, 7, 1.4553995067804273, 8, 2.4553995067804273]\n",
            "M82 26/01/2015 [7, 0.6159334623545885, 10, 3.6159334623545885, 7, 0.6159334623545885, 7, 0.6159334623545885, 7, 0.6159334623545885]\n",
            "M42 13/01/2015 [8, 1.5756212963413887, 7, 0.5756212963413887, 8, 1.5756212963413887, 9, 2.5756212963413887, 7, 0.5756212963413887]\n",
            "M22 06/01/2015 [12, 5.32605408559969, 7, 0.32605408559969007, 7, 0.32605408559969007]\n",
            "M44 06/01/2015 [7, 0.6268328205727958, 7, 0.6268328205727958, 11, 4.626832820572796]\n",
            "M52 20/01/2015 [7, 0.6611188058011574, 7, 0.6611188058011574, 7, 0.6611188058011574, 7, 0.6611188058011574, 7, 0.6611188058011574, 8, 1.6611188058011574, 8, 1.6611188058011574]\n",
            "M26 27/01/2015 [7, 1.4176256128672664, 6, 0.4176256128672664, 6, 0.4176256128672664, 7, 1.4176256128672664, 6, 0.4176256128672664, 7, 1.4176256128672664, 6, 0.4176256128672664, 6, 0.4176256128672664]\n",
            "M59 07/01/2015 [8, 1.8449249810935537, 8, 1.8449249810935537, 7, 0.8449249810935537, 7, 0.8449249810935537, 7, 0.8449249810935537, 7, 0.8449249810935537]\n",
            "M48 04/01/2015 [8, 1.2511711389558702, 7, 0.2511711389558702, 7, 0.2511711389558702, 9, 2.25117113895587, 7, 0.2511711389558702, 7, 0.2511711389558702]\n",
            "M83 06/01/2015 [10, 3.06473511058406, 8, 1.06473511058406, 7, 0.0647351105840599, 7, 0.0647351105840599, 8, 1.06473511058406, 7, 0.0647351105840599, 7, 0.0647351105840599]\n",
            "M23 30/01/2015 [7, 0.880616366217291, 7, 0.880616366217291, 7, 0.880616366217291, 7, 0.880616366217291]\n",
            "M72 24/01/2015 [6, 0.5843854356722966, 6, 0.5843854356722966, 6, 0.5843854356722966, 7, 1.5843854356722966, 6, 0.5843854356722966]\n",
            "M21 19/01/2015 [8, 1.5382783976218315, 7, 0.5382783976218315, 7, 0.5382783976218315, 8, 1.5382783976218315, 7, 0.5382783976218315]\n",
            "M85 24/01/2015 [9, 2.610972226562229, 7, 0.6109722265622288, 8, 1.6109722265622288, 8, 1.6109722265622288, 9, 2.610972226562229]\n",
            "M57 02/01/2015 [9, 2.4900775830436643, 8, 1.4900775830436643, 7, 0.49007758304366433, 7, 0.49007758304366433, 7, 0.49007758304366433, 7, 0.49007758304366433, 7, 0.49007758304366433]\n",
            "M49 30/01/2015 [6, 0.14758253037399793, 7, 1.147582530373998, 6, 0.14758253037399793, 9, 3.147582530373998, 6, 0.14758253037399793, 6, 0.14758253037399793]\n",
            "M70 30/01/2015 [6, 0.6592774593873312, 6, 0.6592774593873312, 6, 0.6592774593873312, 6, 0.6592774593873312]\n",
            "M6 19/01/2015 [7, 0.8920658092933209, 7, 0.8920658092933209, 7, 0.8920658092933209, 10, 3.892065809293321]\n",
            "M91 01/01/2015 [9, 2.281954846571505, 11, 4.281954846571505, 8, 1.2819548465715052, 7, 0.28195484657150516]\n",
            "M64 29/01/2015 [7, 1.5273904126415818, 6, 0.5273904126415818, 6, 0.5273904126415818, 7, 1.5273904126415818, 6, 0.5273904126415818, 7, 1.5273904126415818]\n",
            "M88 14/01/2015 [8, 1.8708374103104912, 7, 0.8708374103104912, 8, 1.8708374103104912, 8, 1.8708374103104912, 7, 0.8708374103104912]\n",
            "M67 13/01/2015 [7, 0.782536397564046, 8, 1.782536397564046, 7, 0.782536397564046]\n",
            "M69 15/01/2015 [7, 0.8153585509779582, 7, 0.8153585509779582, 7, 0.8153585509779582, 7, 0.8153585509779582, 7, 0.8153585509779582, 9, 2.815358550977958]\n",
            "M46 29/01/2015 [8, 1.0616970714400606, 9, 2.0616970714400606, 7, 0.06169707144006065, 7, 0.06169707144006065, 8, 1.0616970714400606, 8, 1.0616970714400606, 8, 1.0616970714400606]\n",
            "M51 08/01/2015 [10, 4.446854051183841, 6, 0.44685405118384125, 8, 2.4468540511838412, 6, 0.44685405118384125]\n",
            "M12 03/01/2015 [8, 1.53238114666512, 8, 1.53238114666512, 7, 0.53238114666512, 7, 0.53238114666512, 7, 0.53238114666512, 7, 0.53238114666512, 10, 3.53238114666512]\n",
            "M30 29/01/2015 [8, 1.4083496732654366, 10, 3.4083496732654366, 7, 0.4083496732654366, 7, 0.4083496732654366, 8, 1.4083496732654366]\n",
            "M90 29/01/2015 [9, 2.405383355501293, 9, 2.405383355501293, 7, 0.4053833555012929, 7, 0.4053833555012929, 9, 2.405383355501293, 7, 0.4053833555012929]\n",
            "M63 30/01/2015 [6, 0.9449717052648898, 6, 0.9449717052648898, 6, 0.9449717052648898, 6, 0.9449717052648898]\n",
            "M32 18/01/2015 [7, 0.8997126650302434, 8, 1.8997126650302434, 7, 0.8997126650302434]\n",
            "M86 05/01/2015 [7, 0.49666888593085545, 8, 1.4966688859308555, 8, 1.4966688859308555, 10, 3.4966688859308555, 8, 1.4966688859308555]\n",
            "M41 15/01/2015 [7, 0.8091097699793357, 8, 1.8091097699793357, 7, 0.8091097699793357, 7, 0.8091097699793357, 7, 0.8091097699793357, 8, 1.8091097699793357]\n",
            "M96 30/01/2015 [6, 0.11592154463039694, 8, 2.115921544630397, 6, 0.11592154463039694, 7, 1.115921544630397, 7, 1.115921544630397, 7, 1.115921544630397, 7, 1.115921544630397, 6, 0.11592154463039694]\n",
            "M89 30/01/2015 [6, 0.2762148963754507, 8, 2.2762148963754507, 7, 1.2762148963754507, 8, 2.2762148963754507, 6, 0.2762148963754507]\n",
            "M28 15/01/2015 [6, 0.32125192857781215, 10, 4.321251928577812, 6, 0.32125192857781215]\n",
            "M93 22/01/2015 [6, 0.033615839499649525, 6, 0.033615839499649525, 6, 0.033615839499649525, 6, 0.033615839499649525, 6, 0.033615839499649525, 6, 0.033615839499649525, 6, 0.033615839499649525, 7, 1.0336158394996495, 8, 2.0336158394996495]\n",
            "M24 27/01/2015 [6, 0.006070656844567424, 8, 2.0060706568445674, 7, 1.0060706568445674, 7, 1.0060706568445674, 7, 1.0060706568445674, 6, 0.006070656844567424, 6, 0.006070656844567424]\n",
            "M15 28/01/2015 [6, 0.1046355987339691, 8, 2.104635598733969, 6, 0.1046355987339691, 8, 2.104635598733969, 6, 0.1046355987339691, 6, 0.1046355987339691]\n",
            "M92 13/01/2015 [8, 1.8399538644508766, 7, 0.8399538644508766, 7, 0.8399538644508766]\n",
            "M19 04/01/2015 [7, 1.0641992220538956, 6, 0.06419922205389561, 8, 2.0641992220538956, 6, 0.06419922205389561, 6, 0.06419922205389561, 6, 0.06419922205389561, 6, 0.06419922205389561]\n",
            "M84 04/01/2015 [8, 1.854799626185951, 7, 0.854799626185951, 7, 0.854799626185951]\n",
            "M56 13/01/2015 [7, 1.1232989371684763, 7, 1.1232989371684763, 9, 3.1232989371684763, 6, 0.12329893716847629]\n",
            "M60 11/01/2015 [7, 0.9739907244562138, 7, 0.9739907244562138, 7, 0.9739907244562138]\n",
            "M31 19/01/2015 [9, 2.629170489299854, 8, 1.6291704892998542, 9, 2.629170489299854, 9, 2.629170489299854]\n",
            "M4 01/01/2015 [7, 1.5211482302951236, 6, 0.5211482302951236, 6, 0.5211482302951236, 8, 2.5211482302951236, 6, 0.5211482302951236, 6, 0.5211482302951236]\n",
            "M58 07/01/2015 [7, 0.7933444075610119, 8, 1.7933444075610119, 9, 2.793344407561012]\n",
            "M77 04/01/2015 [9, 2.9923640646877825, 7, 0.9923640646877825, 7, 0.9923640646877825, 8, 1.9923640646877825, 7, 0.9923640646877825]\n",
            "M9 30/01/2015 [7, 0.6809243038789594, 7, 0.6809243038789594, 10, 3.6809243038789594, 7, 0.6809243038789594]\n",
            "M76 03/01/2015 [9, 2.0392091720498975, 8, 1.0392091720498975, 8, 1.0392091720498975, 10, 3.0392091720498975, 8, 1.0392091720498975, 7, 0.03920917204989749]\n",
            "M29 24/01/2015 [7, 0.9653649804552842, 7, 0.9653649804552842, 10, 3.965364980455284]\n",
            "M0 09/01/2015 [8, 0.7490742645154489, 8, 0.7490742645154489, 9, 1.749074264515449, 9, 1.749074264515449, 10, 2.749074264515449]\n",
            "M38 22/01/2015 [7, 1.0223611165368816, 6, 0.022361116536881553, 7, 1.0223611165368816, 6, 0.022361116536881553, 6, 0.022361116536881553, 7, 1.0223611165368816, 7, 1.0223611165368816]\n",
            "M3 26/01/2015 [7, 0.7732908709189887, 7, 0.7732908709189887, 7, 0.7732908709189887, 7, 0.7732908709189887, 9, 2.7732908709189887]\n",
            "M71 09/01/2015 [9, 2.6928293896229487, 7, 0.6928293896229487, 8, 1.6928293896229487, 8, 1.6928293896229487]\n",
            "M80 09/01/2015 [7, 0.6319896841005201, 7, 0.6319896841005201, 8, 1.6319896841005201, 9, 2.63198968410052]\n",
            "M11 29/01/2015 [6, 0.12329893716847629, 7, 1.1232989371684763, 7, 1.1232989371684763, 6, 0.12329893716847629, 8, 2.1232989371684763, 6, 0.12329893716847629]\n",
            "M45 30/01/2015 [6, 0.5405969143653877, 6, 0.5405969143653877, 7, 1.5405969143653877, 6, 0.5405969143653877]\n",
            "M79 19/01/2015 [8, 1.6252939357561296, 7, 0.6252939357561296, 8, 1.6252939357561296, 8, 1.6252939357561296]\n",
            "M40 26/01/2015 [7, 1.072050022167959, 6, 0.07205002216795897, 7, 1.072050022167959, 7, 1.072050022167959, 9, 3.072050022167959, 7, 1.072050022167959, 7, 1.072050022167959]\n",
            "M27 07/01/2015 [7, 1.7625981103095363, 6, 0.7625981103095363, 6, 0.7625981103095363, 6, 0.7625981103095363]\n",
            "M81 25/01/2015 [7, 0.8898434690152719, 7, 0.8898434690152719, 7, 0.8898434690152719, 9, 2.889843469015272, 7, 0.8898434690152719]\n",
            "M74 29/01/2015 [7, 0.21337164782595774, 7, 0.21337164782595774, 10, 3.2133716478259577, 10, 3.2133716478259577, 7, 0.21337164782595774, 7, 0.21337164782595774]\n",
            "M13 29/01/2015 [6, 0.19878827922439868, 8, 2.1987882792243987, 6, 0.19878827922439868, 6, 0.19878827922439868, 6, 0.19878827922439868, 6, 0.19878827922439868, 6, 0.19878827922439868, 7, 1.1987882792243987]\n",
            "M37 05/01/2015 [6, 0.18490030322184658, 7, 1.1849003032218466, 9, 3.1849003032218466, 11, 5.184900303221847]\n",
            "M18 15/01/2015 [21, 9.877125987175402, 32, 20.877125987175404]\n",
            "M97 27/01/2015 [7, 0.37329087091898927, 7, 0.37329087091898927, 7, 0.37329087091898927, 11, 4.373290870918989]\n",
            "M62 07/01/2015 [10, 4.008762048125305, 8, 2.0087620481253046, 6, 0.008762048125304567, 6, 0.008762048125304567, 6, 0.008762048125304567]\n",
            "M36 01/01/2015 [8, 1.7028665091633606, 7, 0.7028665091633606, 7, 0.7028665091633606, 7, 0.7028665091633606]\n",
            "M1 05/01/2015 [8, 1.8176256128672668, 8, 1.8176256128672668, 7, 0.8176256128672668, 7, 0.8176256128672668]\n",
            "M16 26/01/2015 [8, 1.3012441276289053, 7, 0.3012441276289053, 7, 0.3012441276289053, 8, 1.3012441276289053, 8, 1.3012441276289053, 7, 0.3012441276289053]\n",
            "M75 30/01/2015 [5, 0.08263070053155364, 7, 2.0826307005315536, 5, 0.08263070053155364, 5, 0.08263070053155364, 5, 0.08263070053155364, 5, 0.08263070053155364, 5, 0.08263070053155364, 5, 0.08263070053155364, 5, 0.08263070053155364]\n",
            "M34 27/01/2015 [7, 0.44593407714619815, 7, 0.44593407714619815, 8, 1.4459340771461981, 8, 1.4459340771461981, 7, 0.44593407714619815, 7, 0.44593407714619815, 7, 0.44593407714619815, 7, 0.44593407714619815]\n",
            "M20 05/01/2015 [7, 0.262567979311342, 8, 1.262567979311342, 9, 2.262567979311342, 9, 2.262567979311342, 8, 1.262567979311342, 8, 1.262567979311342]\n",
            "M5 12/01/2015 [6, 1.0844505578596486, 7, 2.0844505578596486, 6, 1.0844505578596486, 7, 2.0844505578596486]\n",
            "M7 30/01/2015 [6, 0.8274414039405453, 7, 1.8274414039405453, 7, 1.8274414039405453, 6, 0.8274414039405453, 6, 0.8274414039405453]\n",
            "M53 01/01/2015 [8, 0.6196933938196372, 9, 1.6196933938196372, 9, 1.6196933938196372, 9, 1.6196933938196372, 10, 2.619693393819637]\n",
            "M78 24/01/2015 [7, 0.822730225090222, 8, 1.822730225090222, 8, 1.822730225090222, 7, 0.822730225090222]\n",
            "M66 30/01/2015 [8, 2.002300218938635, 7, 1.0023002189386352, 6, 0.00230021893863519, 7, 1.0023002189386352, 6, 0.00230021893863519, 8, 2.002300218938635]\n",
            "M2 29/01/2015 [8, 1.6798374044191036, 7, 0.6798374044191036, 7, 0.6798374044191036, 7, 0.6798374044191036, 8, 1.6798374044191036]\n",
            "M43 28/01/2015 [7, 0.7732908709189887, 8, 1.7732908709189887, 8, 1.7732908709189887, 7, 0.7732908709189887, 7, 0.7732908709189887]\n",
            "M95 27/01/2015 [9, 1.7990478133317875, 11, 3.7990478133317875, 8, 0.7990478133317875, 8, 0.7990478133317875, 9, 1.7990478133317875]\n",
            "M35 28/01/2015 [7, 0.7788891668056426, 7, 0.7788891668056426, 7, 0.7788891668056426, 9, 2.7788891668056426, 7, 0.7788891668056426]\n",
            "M39 28/01/2015 [8, 2.0335897587637444, 6, 0.03358975876374437, 6, 0.03358975876374437, 8, 2.0335897587637444, 7, 1.0335897587637444, 8, 2.0335897587637444]\n",
            "M61 19/01/2015 [7, 0.09230182480378524, 10, 3.0923018248037852, 7, 0.09230182480378524, 8, 1.0923018248037852, 7, 0.09230182480378524, 8, 1.0923018248037852]\n",
            "M94 17/01/2015 [8, 1.0047667737902692, 8, 1.0047667737902692, 8, 1.0047667737902692, 11, 4.004766773790269, 7, 0.004766773790269241]\n",
            "M87 15/01/2015 [8, 1.4261627229562812, 8, 1.4261627229562812, 8, 1.4261627229562812, 8, 1.4261627229562812, 7, 0.4261627229562812]\n",
            "M47 20/01/2015 [7, 0.49168739647985227, 7, 0.49168739647985227, 8, 1.4916873964798523, 7, 0.49168739647985227, 7, 0.49168739647985227]\n",
            "M25 02/01/2015 [9, 1.7910073829830475, 10, 2.7910073829830475, 11, 3.7910073829830475, 8, 0.7910073829830475]\n",
            "M73 19/01/2015 [6, 0.45338146873806107, 7, 1.453381468738061, 6, 0.45338146873806107, 8, 2.453381468738061, 6, 0.45338146873806107, 6, 0.45338146873806107]\n",
            "M17 19/01/2015 [6, 0.0346999127829104, 8, 2.0346999127829104, 8, 2.0346999127829104, 6, 0.0346999127829104, 7, 1.0346999127829104]\n",
            "M65 30/01/2015 [7, 1.127691707668398, 9, 3.127691707668398, 6, 0.1276917076683981, 6, 0.1276917076683981, 6, 0.1276917076683981, 6, 0.1276917076683981, 6, 0.1276917076683981, 7, 1.127691707668398]\n",
            "M54 27/01/2015 [9, 2.06473511058406, 7, 0.0647351105840599, 7, 0.0647351105840599, 10, 3.06473511058406, 7, 0.0647351105840599, 9, 2.06473511058406]\n",
            "M8 28/01/2015 [9, 1.9344088820227112, 8, 0.9344088820227112, 8, 0.9344088820227112, 9, 1.9344088820227112]\n",
            "M99 28/01/2015 [6, 0.4083551484915571, 6, 0.4083551484915571, 7, 1.408355148491557, 6, 0.4083551484915571, 7, 1.408355148491557, 6, 0.4083551484915571, 6, 0.4083551484915571]\n",
            "M68 18/01/2015 [8, 1.3735087795239114, 7, 0.37350877952391137, 9, 2.3735087795239114, 8, 1.3735087795239114, 7, 0.37350877952391137]\n"
          ],
          "name": "stdout"
        }
      ]
    },
    {
      "cell_type": "code",
      "metadata": {
        "id": "ylo9XHshyni6",
        "colab_type": "code",
        "colab": {
          "base_uri": "https://localhost:8080/",
          "height": 51
        },
        "outputId": "02f07f03-d4d1-413b-834d-953e3b1726e2"
      },
      "source": [
        "#Detection of Compromised merchant with all dates of information harvestion\n",
        "\n",
        "#All abnormal defrauded transactions which use same account which exploited later and dates with all accounts count of which information harvested  \n",
        "anmldtl=[]\n",
        "for key,value in anomlymer.items():\n",
        "  anmlymerdact=[]\n",
        "  for i in data['date'].unique():\n",
        "    if i<min(exploitdt.keys()):\n",
        "      anmlymerdact.append(len(set(expltacnt).intersection(set(data[(data['fraud'].astype(str).str.strip()=='False') & (data['date']==i)  & (data['merchant']==key)]['account'].unique()))))\n",
        "  if len(find_anomalies(anmlymerdact,1))!=0:\n",
        "    anmldtl.append(key)\n",
        "    anmldtl.append(find_anomalies(anmlymerdact,1))\n",
        "    \n",
        "frdsum=[]\n",
        "frdmer={}\n",
        "\n",
        "# Loop for suming up all counts of transaction in abnormal list\n",
        "for i in range(0,len(anmldtl),2):\n",
        "  mer=anmldtl[i]\n",
        "  frdacsum=0\n",
        "  y=[]\n",
        "  for j in range(0,len(anmldtl[i+1]),2):\n",
        "    frdacsum=frdacsum+anmldtl[i+1][j] #sum of all frauded accounts transations count which are in abnormarl list for particular merchant \n",
        "    y.append(anmldtl[i+1][j])\n",
        "  frdsum.append(frdacsum)\n",
        "  frdmer.update({mer:y})\n",
        "\n",
        "#finding out merchant with maximum abnormal transaction with defrauded indicator and with frauded accounts\n",
        "for key, value in frdmer.items():\n",
        "  if sum(value)==max(frdsum):\n",
        "    cmpmer=key\n",
        "print('Compromised merchnat ',cmpmer)\n",
        "\n",
        "#Dates of Compromise for that merchant\n",
        "fradt={}\n",
        "for k in data['date'].unique():\n",
        "  if k<min(exploitdt.keys()):\n",
        "    fradt.update({k:len(set(expltacnt).intersection(set(data[(data['fraud'].astype(str).str.strip()=='False') & (data['date']==k)  & (data['merchant']==cmpmer)]['account'].unique())))})\n",
        "\n",
        "dts={}\n",
        "for key,value in fradt.items():\n",
        "  for l in list(dict(filter(lambda elem: elem[0] ==cmpmer , frdmer.items())).values())[0]:\n",
        "    if l==value:\n",
        "      dts.update({key:l})\n",
        "\n",
        "print('Dates of compromise', list(dts.keys()))"
      ],
      "execution_count": 120,
      "outputs": [
        {
          "output_type": "stream",
          "text": [
            "Compromised merchnat  M18\n",
            "Dates of compromise ['15/01/2015', '16/01/2015']\n"
          ],
          "name": "stdout"
        }
      ]
    },
    {
      "cell_type": "code",
      "metadata": {
        "id": "koKGyXtveCRb",
        "colab_type": "code",
        "colab": {
          "base_uri": "https://localhost:8080/",
          "height": 1000
        },
        "outputId": "ebcaa733-1e67-4475-f354-b3b145ef8df9"
      },
      "source": [
        "#More insight for abnormal defrauded transactions which use same account which exploited later and date with maximum accounts count of which information harvested  \n",
        "\n",
        "for key,value in anomlymer.items():\n",
        "  anmact=[]\n",
        "  anmact.extend(data[(data['fraud'].astype(str).str.strip()=='False') & (data['merchant']==key) & (data['date']==value)]['account'].unique())\n",
        "  print(key,value,len(set(expltacnt).intersection(set(anmact))),set(expltacnt).intersection(set(anmact)))"
      ],
      "execution_count": 121,
      "outputs": [
        {
          "output_type": "stream",
          "text": [
            "M98 01/01/2015 8 {'A841', 'A215', 'A37', 'A727', 'A182', 'A183', 'A40', 'A665'}\n",
            "M50 29/01/2015 7 {'A590', 'A824', 'A336', 'A443', 'A541', 'A825', 'A998'}\n",
            "M55 20/01/2015 6 {'A490', 'A726', 'A403', 'A110', 'A793', 'A430'}\n",
            "M14 03/01/2015 8 {'A704', 'A699', 'A834', 'A90', 'A731', 'A942', 'A886', 'A381'}\n",
            "M10 02/01/2015 8 {'A238', 'A16', 'A391', 'A581', 'A145', 'A200', 'A973', 'A166'}\n",
            "M33 03/01/2015 7 {'A882', 'A560', 'A145', 'A139', 'A973', 'A372', 'A430'}\n",
            "M82 26/01/2015 7 {'A391', 'A494', 'A874', 'A475', 'A157', 'A318', 'A921'}\n",
            "M42 13/01/2015 8 {'A461', 'A273', 'A444', 'A551', 'A425', 'A942', 'A111', 'A743'}\n",
            "M22 06/01/2015 12 {'A493', 'A824', 'A215', 'A634', 'A291', 'A560', 'A727', 'A701', 'A157', 'A541', 'A743', 'A203'}\n",
            "M44 06/01/2015 7 {'A392', 'A291', 'A702', 'A809', 'A379', 'A8', 'A726'}\n",
            "M52 20/01/2015 7 {'A720', 'A645', 'A443', 'A324', 'A615', 'A92', 'A166'}\n",
            "M26 27/01/2015 7 {'A122', 'A250', 'A210', 'A921', 'A907', 'A397', 'A469'}\n",
            "M59 07/01/2015 8 {'A336', 'A560', 'A90', 'A349', 'A728', 'A458', 'A951', 'A914'}\n",
            "M48 04/01/2015 8 {'A167', 'A16', 'A154', 'A841', 'A648', 'A723', 'A786', 'A69'}\n",
            "M83 06/01/2015 10 {'A682', 'A122', 'A355', 'A119', 'A943', 'A468', 'A886', 'A825', 'A40', 'A325'}\n",
            "M23 30/01/2015 7 {'A167', 'A210', 'A723', 'A349', 'A743', 'A603', 'A92'}\n",
            "M72 24/01/2015 6 {'A480', 'A943', 'A90', 'A111', 'A32', 'A325'}\n",
            "M21 19/01/2015 8 {'A238', 'A6', 'A291', 'A284', 'A148', 'A902', 'A556', 'A793'}\n",
            "M85 24/01/2015 9 {'A682', 'A581', 'A392', 'A802', 'A321', 'A148', 'A458', 'A991', 'A837'}\n",
            "M57 02/01/2015 9 {'A461', 'A308', 'A517', 'A841', 'A861', 'A771', 'A655', 'A930', 'A92'}\n",
            "M49 30/01/2015 6 {'A461', 'A355', 'A154', 'A324', 'A921', 'A726'}\n",
            "M70 30/01/2015 6 {'A355', 'A57', 'A468', 'A610', 'A568', 'A998'}\n",
            "M6 19/01/2015 7 {'A435', 'A273', 'A874', 'A701', 'A200', 'A838', 'A556'}\n",
            "M91 01/01/2015 9 {'A861', 'A6', 'A443', 'A992', 'A886', 'A914', 'A921', 'A330', 'A166'}\n",
            "M64 29/01/2015 7 {'A116', 'A167', 'A299', 'A727', 'A615', 'A379', 'A951'}\n",
            "M88 14/01/2015 8 {'A923', 'A6', 'A657', 'A874', 'A210', 'A723', 'A952', 'A325'}\n",
            "M67 13/01/2015 7 {'A167', 'A57', 'A809', 'A145', 'A139', 'A8', 'A92'}\n",
            "M69 15/01/2015 7 {'A480', 'A493', 'A551', 'A210', 'A148', 'A469', 'A951'}\n",
            "M46 29/01/2015 8 {'A299', 'A37', 'A987', 'A86', 'A139', 'A952', 'A69', 'A837'}\n",
            "M51 08/01/2015 10 {'A882', 'A834', 'A992', 'A731', 'A727', 'A148', 'A952', 'A40', 'A92', 'A726'}\n",
            "M12 03/01/2015 8 {'A923', 'A517', 'A634', 'A284', 'A893', 'A200', 'A951', 'A330'}\n",
            "M30 29/01/2015 8 {'A443', 'A90', 'A145', 'A349', 'A802', 'A746', 'A991', 'A726'}\n",
            "M90 29/01/2015 9 {'A308', 'A215', 'A560', 'A874', 'A148', 'A458', 'A40', 'A8', 'A270'}\n",
            "M63 30/01/2015 6 {'A425', 'A771', 'A731', 'A907', 'A437', 'A781'}\n",
            "M32 18/01/2015 7 {'A167', 'A720', 'A817', 'A200', 'A183', 'A603', 'A837'}\n",
            "M86 05/01/2015 7 {'A122', 'A391', 'A485', 'A425', 'A86', 'A992', 'A907'}\n",
            "M41 15/01/2015 7 {'A861', 'A215', 'A485', 'A874', 'A321', 'A568', 'A998'}\n",
            "M96 30/01/2015 6 {'A704', 'A991', 'A284', 'A527', 'A8', 'A69'}\n",
            "M89 30/01/2015 6 {'A119', 'A861', 'A824', 'A400', 'A392', 'A992'}\n",
            "M28 15/01/2015 6 {'A400', 'A381', 'A157', 'A902', 'A655', 'A991'}\n",
            "M93 22/01/2015 6 {'A16', 'A400', 'A250', 'A657', 'A182', 'A325'}\n",
            "M24 27/01/2015 6 {'A475', 'A667', 'A902', 'A615', 'A458', 'A793'}\n",
            "M15 28/01/2015 6 {'A836', 'A581', 'A702', 'A560', 'A657', 'A182'}\n",
            "M92 13/01/2015 8 {'A122', 'A400', 'A634', 'A392', 'A336', 'A111', 'A743', 'A896'}\n",
            "M19 04/01/2015 7 {'A645', 'A215', 'A444', 'A90', 'A723', 'A40', 'A69'}\n",
            "M84 04/01/2015 8 {'A699', 'A697', 'A943', 'A787', 'A321', 'A434', 'A379', 'A334'}\n",
            "M56 13/01/2015 7 {'A882', 'A6', 'A157', 'A321', 'A907', 'A838', 'A556'}\n",
            "M60 11/01/2015 7 {'A299', 'A250', 'A494', 'A771', 'A886', 'A397', 'A334'}\n",
            "M31 19/01/2015 9 {'A480', 'A817', 'A697', 'A392', 'A771', 'A182', 'A139', 'A952', 'A166'}\n",
            "M4 01/01/2015 7 {'A395', 'A474', 'A590', 'A834', 'A308', 'A494', 'A896'}\n",
            "M58 07/01/2015 7 {'A119', 'A392', 'A527', 'A541', 'A921', 'A568', 'A8'}\n",
            "M77 04/01/2015 9 {'A817', 'A634', 'A443', 'A444', 'A349', 'A157', 'A802', 'A610', 'A458'}\n",
            "M9 30/01/2015 7 {'A468', 'A702', 'A324', 'A430', 'A746', 'A381', 'A325'}\n",
            "M76 03/01/2015 9 {'A645', 'A435', 'A379', 'A291', 'A284', 'A992', 'A825', 'A746', 'A998'}\n",
            "M29 24/01/2015 7 {'A122', 'A590', 'A834', 'A90', 'A809', 'A353', 'A213'}\n",
            "M0 09/01/2015 8 {'A122', 'A334', 'A400', 'A403', 'A469', 'A665', 'A203', 'A213'}\n",
            "M38 22/01/2015 7 {'A391', 'A215', 'A874', 'A86', 'A655', 'A615', 'A213'}\n",
            "M3 26/01/2015 7 {'A834', 'A273', 'A444', 'A886', 'A541', 'A952', 'A183'}\n",
            "M71 09/01/2015 9 {'A435', 'A551', 'A987', 'A318', 'A937', 'A615', 'A998', 'A914', 'A430'}\n",
            "M80 09/01/2015 7 {'A16', 'A215', 'A771', 'A556', 'A334', 'A166', 'A213'}\n",
            "M11 29/01/2015 6 {'A682', 'A834', 'A435', 'A145', 'A723', 'A610'}\n",
            "M45 30/01/2015 6 {'A116', 'A645', 'A634', 'A809', 'A746', 'A334'}\n",
            "M79 19/01/2015 8 {'A923', 'A720', 'A119', 'A250', 'A443', 'A771', 'A907', 'A665'}\n",
            "M40 26/01/2015 7 {'A682', 'A291', 'A111', 'A353', 'A610', 'A991', 'A213'}\n",
            "M27 07/01/2015 7 {'A435', 'A723', 'A937', 'A728', 'A781', 'A930', 'A372'}\n",
            "M81 25/01/2015 7 {'A395', 'A824', 'A581', 'A443', 'A992', 'A701', 'A213'}\n",
            "M74 29/01/2015 7 {'A167', 'A210', 'A771', 'A157', 'A527', 'A379', 'A665'}\n",
            "M13 29/01/2015 6 {'A836', 'A817', 'A435', 'A92', 'A69', 'A270'}\n",
            "M37 05/01/2015 6 {'A590', 'A355', 'A648', 'A183', 'A746', 'A973'}\n",
            "M18 15/01/2015 21 {'A355', 'A349', 'A896', 'A461', 'A336', 'A403', 'A731', 'A434', 'A111', 'A951', 'A299', 'A425', 'A728', 'A334', 'A37', 'A551', 'A809', 'A825', 'A743', 'A603', 'A430'}\n",
            "M97 27/01/2015 7 {'A817', 'A490', 'A468', 'A403', 'A437', 'A200', 'A40'}\n",
            "M62 07/01/2015 10 {'A943', 'A6', 'A215', 'A92', 'A475', 'A86', 'A527', 'A921', 'A973', 'A726'}\n",
            "M36 01/01/2015 8 {'A474', 'A517', 'A731', 'A182', 'A321', 'A148', 'A541', 'A951'}\n",
            "M1 05/01/2015 8 {'A122', 'A6', 'A648', 'A907', 'A541', 'A998', 'A372', 'A430'}\n",
            "M16 26/01/2015 8 {'A861', 'A893', 'A379', 'A610', 'A8', 'A469', 'A330', 'A325'}\n",
            "M75 30/01/2015 5 {'A834', 'A943', 'A284', 'A475', 'A92'}\n",
            "M34 27/01/2015 7 {'A493', 'A645', 'A119', 'A551', 'A32', 'A743', 'A951'}\n",
            "M20 05/01/2015 7 {'A299', 'A284', 'A727', 'A838', 'A896', 'A786', 'A951'}\n",
            "M5 12/01/2015 6 {'A122', 'A16', 'A861', 'A379', 'A896', 'A69'}\n",
            "M7 30/01/2015 6 {'A119', 'A299', 'A657', 'A349', 'A825', 'A397'}\n",
            "M53 01/01/2015 8 {'A480', 'A943', 'A443', 'A551', 'A992', 'A942', 'A110', 'A568'}\n",
            "M78 24/01/2015 7 {'A943', 'A6', 'A771', 'A148', 'A615', 'A458', 'A914'}\n",
            "M66 30/01/2015 8 {'A834', 'A581', 'A731', 'A349', 'A907', 'A786', 'A69', 'A726'}\n",
            "M2 29/01/2015 8 {'A238', 'A355', 'A435', 'A284', 'A145', 'A610', 'A469', 'A726'}\n",
            "M43 28/01/2015 7 {'A590', 'A355', 'A215', 'A485', 'A731', 'A139', 'A458'}\n",
            "M95 27/01/2015 9 {'A238', 'A817', 'A475', 'A86', 'A727', 'A321', 'A902', 'A437', 'A110'}\n",
            "M35 28/01/2015 7 {'A395', 'A119', 'A494', 'A353', 'A541', 'A951', 'A372'}\n",
            "M39 28/01/2015 8 {'A836', 'A154', 'A551', 'A987', 'A318', 'A200', 'A568', 'A213'}\n",
            "M61 19/01/2015 7 {'A392', 'A336', 'A318', 'A139', 'A825', 'A930', 'A381'}\n",
            "M94 17/01/2015 8 {'A395', 'A122', 'A834', 'A657', 'A610', 'A786', 'A704', 'A837'}\n",
            "M87 15/01/2015 8 {'A720', 'A6', 'A37', 'A336', 'A139', 'A200', 'A610', 'A896'}\n",
            "M47 20/01/2015 7 {'A861', 'A444', 'A610', 'A330', 'A991', 'A665', 'A203'}\n",
            "M25 02/01/2015 9 {'A474', 'A834', 'A273', 'A250', 'A148', 'A527', 'A353', 'A746', 'A203'}\n",
            "M73 19/01/2015 6 {'A392', 'A781', 'A952', 'A838', 'A704', 'A203'}\n",
            "M17 19/01/2015 6 {'A824', 'A444', 'A728', 'A615', 'A973', 'A330'}\n",
            "M65 30/01/2015 7 {'A122', 'A299', 'A943', 'A634', 'A809', 'A921', 'A610'}\n",
            "M54 27/01/2015 9 {'A167', 'A836', 'A841', 'A824', 'A392', 'A145', 'A723', 'A937', 'A8'}\n",
            "M8 28/01/2015 9 {'A480', 'A699', 'A493', 'A336', 'A349', 'A321', 'A139', 'A781', 'A69'}\n",
            "M99 28/01/2015 6 {'A395', 'A57', 'A403', 'A86', 'A992', 'A92'}\n",
            "M68 18/01/2015 8 {'A560', 'A874', 'A284', 'A610', 'A838', 'A786', 'A793', 'A330'}\n"
          ],
          "name": "stdout"
        }
      ]
    },
    {
      "cell_type": "code",
      "metadata": {
        "id": "ktvjf1nqon16",
        "colab_type": "code",
        "colab": {
          "base_uri": "https://localhost:8080/",
          "height": 357
        },
        "outputId": "b0e752f3-3893-4a00-8760-812215bf6c53"
      },
      "source": [
        "for i in data['date'].unique():\n",
        "  if i<min(exploitdt.keys()):\n",
        "    print(i,len(set(expltacnt).intersection(set(data[(data['fraud'].astype(str).str.strip()=='False') & (data['date']==i)  & (data['merchant']=='M18')]['account'].unique()))))"
      ],
      "execution_count": 124,
      "outputs": [
        {
          "output_type": "stream",
          "text": [
            "01/01/2015 2\n",
            "02/01/2015 4\n",
            "03/01/2015 1\n",
            "04/01/2015 4\n",
            "05/01/2015 5\n",
            "06/01/2015 2\n",
            "07/01/2015 3\n",
            "08/01/2015 5\n",
            "09/01/2015 3\n",
            "10/01/2015 3\n",
            "11/01/2015 3\n",
            "12/01/2015 5\n",
            "13/01/2015 6\n",
            "14/01/2015 4\n",
            "15/01/2015 21\n",
            "16/01/2015 32\n",
            "17/01/2015 1\n",
            "18/01/2015 0\n",
            "19/01/2015 3\n",
            "20/01/2015 6\n"
          ],
          "name": "stdout"
        }
      ]
    }
  ]
}
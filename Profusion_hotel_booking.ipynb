{
  "nbformat": 4,
  "nbformat_minor": 0,
  "metadata": {
    "colab": {
      "name": "Profusion_hotel_booking.ipynb",
      "provenance": [],
      "authorship_tag": "ABX9TyMZOSpWVDoPGg8bhkkGoM95",
      "include_colab_link": true
    },
    "kernelspec": {
      "name": "python3",
      "display_name": "Python 3"
    }
  },
  "cells": [
    {
      "cell_type": "markdown",
      "metadata": {
        "id": "view-in-github",
        "colab_type": "text"
      },
      "source": [
        "<a href=\"https://colab.research.google.com/github/Sushila-Phogat/Data-science-with-Python/blob/master/Profusion_hotel_booking.ipynb\" target=\"_parent\"><img src=\"https://colab.research.google.com/assets/colab-badge.svg\" alt=\"Open In Colab\"/></a>"
      ]
    },
    {
      "cell_type": "code",
      "metadata": {
        "id": "_rX8iJ0sXd3u",
        "colab_type": "code",
        "colab": {
          "base_uri": "https://localhost:8080/",
          "height": 34
        },
        "outputId": "0572f363-0659-4eed-f721-676f412b59f9"
      },
      "source": [
        "#Loading data from github account.Provided csv file already been uploaded on my account\n",
        "import datetime\n",
        "import pandas as pd\n",
        "import numpy as np\n",
        "import matplotlib.pyplot as plt\n",
        "import seaborn as sns\n",
        "\n",
        "df = pd.read_csv('https://raw.githubusercontent.com/Sushila-Phogat/Data-science-with-Python/master/hotel_bookings.csv')\n",
        "\n",
        "df['hotel'].unique()"
      ],
      "execution_count": 226,
      "outputs": [
        {
          "output_type": "execute_result",
          "data": {
            "text/plain": [
              "array(['Resort Hotel', 'City Hotel'], dtype=object)"
            ]
          },
          "metadata": {
            "tags": []
          },
          "execution_count": 226
        }
      ]
    },
    {
      "cell_type": "code",
      "metadata": {
        "id": "pyJcc0eW8ydo",
        "colab_type": "code",
        "colab": {}
      },
      "source": [
        "#As we need to perform analysis only for Resort hotel so extracting related data only\n",
        "df=df[df['hotel']=='Resort Hotel']"
      ],
      "execution_count": 0,
      "outputs": []
    },
    {
      "cell_type": "code",
      "metadata": {
        "id": "JmazuXnhuuL8",
        "colab_type": "code",
        "colab": {
          "base_uri": "https://localhost:8080/",
          "height": 170
        },
        "outputId": "fa4f0ad1-263b-45d6-d8d6-f79476917abb"
      },
      "source": [
        "#Checking out canceled count\n",
        "df['is_canceled'].describe()"
      ],
      "execution_count": 228,
      "outputs": [
        {
          "output_type": "execute_result",
          "data": {
            "text/plain": [
              "count    7227.000000\n",
              "mean        0.287810\n",
              "std         0.452773\n",
              "min         0.000000\n",
              "25%         0.000000\n",
              "50%         0.000000\n",
              "75%         1.000000\n",
              "max         1.000000\n",
              "Name: is_canceled, dtype: float64"
            ]
          },
          "metadata": {
            "tags": []
          },
          "execution_count": 228
        }
      ]
    },
    {
      "cell_type": "code",
      "metadata": {
        "id": "o0Imew3y9ULs",
        "colab_type": "code",
        "colab": {
          "base_uri": "https://localhost:8080/",
          "height": 170
        },
        "outputId": "02a8acc6-94f7-44dc-b3b3-3179403f6846"
      },
      "source": [
        "#total_cost analysis result\n",
        "df['total_cost'].describe()"
      ],
      "execution_count": 229,
      "outputs": [
        {
          "output_type": "execute_result",
          "data": {
            "text/plain": [
              "count    7227.000000\n",
              "mean      277.387574\n",
              "std       213.378020\n",
              "min       -20.000000\n",
              "25%       110.000000\n",
              "50%       230.000000\n",
              "75%       430.000000\n",
              "max      4250.000000\n",
              "Name: total_cost, dtype: float64"
            ]
          },
          "metadata": {
            "tags": []
          },
          "execution_count": 229
        }
      ]
    },
    {
      "cell_type": "code",
      "metadata": {
        "id": "qnj8dBHb97b_",
        "colab_type": "code",
        "colab": {
          "base_uri": "https://localhost:8080/",
          "height": 170
        },
        "outputId": "8d243f3e-b6cd-4af2-d213-4e423bf3b7dc"
      },
      "source": [
        "#arrival_date_stays_in_weekend_nights month analysis result\n",
        "df['stays_in_weekend_nights'].describe()"
      ],
      "execution_count": 230,
      "outputs": [
        {
          "output_type": "execute_result",
          "data": {
            "text/plain": [
              "count    7227.000000\n",
              "mean        1.196762\n",
              "std         1.155871\n",
              "min         0.000000\n",
              "25%         0.000000\n",
              "50%         1.000000\n",
              "75%         2.000000\n",
              "max        19.000000\n",
              "Name: stays_in_weekend_nights, dtype: float64"
            ]
          },
          "metadata": {
            "tags": []
          },
          "execution_count": 230
        }
      ]
    },
    {
      "cell_type": "code",
      "metadata": {
        "id": "6Sf_7K09-rhU",
        "colab_type": "code",
        "colab": {
          "base_uri": "https://localhost:8080/",
          "height": 170
        },
        "outputId": "f6260842-d59e-4070-b5f5-c94f0e01a4b4"
      },
      "source": [
        "#stays_in_week_nights analysis result\n",
        "df['stays_in_week_nights'].describe()"
      ],
      "execution_count": 231,
      "outputs": [
        {
          "output_type": "execute_result",
          "data": {
            "text/plain": [
              "count    7227.000000\n",
              "mean        3.115677\n",
              "std         2.488704\n",
              "min         0.000000\n",
              "25%         1.000000\n",
              "50%         3.000000\n",
              "75%         5.000000\n",
              "max        50.000000\n",
              "Name: stays_in_week_nights, dtype: float64"
            ]
          },
          "metadata": {
            "tags": []
          },
          "execution_count": 231
        }
      ]
    },
    {
      "cell_type": "code",
      "metadata": {
        "id": "aLFTCKIc-Tgl",
        "colab_type": "code",
        "colab": {
          "base_uri": "https://localhost:8080/",
          "height": 102
        },
        "outputId": "2eb6c5f7-c6b9-42f3-b566-20065d57ec8a"
      },
      "source": [
        "#arrival_date_month analysis result\n",
        "df['arrival_date_month'].describe()"
      ],
      "execution_count": 232,
      "outputs": [
        {
          "output_type": "execute_result",
          "data": {
            "text/plain": [
              "count       7227\n",
              "unique        12\n",
              "top       August\n",
              "freq         869\n",
              "Name: arrival_date_month, dtype: object"
            ]
          },
          "metadata": {
            "tags": []
          },
          "execution_count": 232
        }
      ]
    },
    {
      "cell_type": "code",
      "metadata": {
        "id": "OsbK-y1Mz48W",
        "colab_type": "code",
        "colab": {
          "base_uri": "https://localhost:8080/",
          "height": 679
        },
        "outputId": "d99d4a24-4587-4e11-ff16-94d6b095aae5"
      },
      "source": [
        "#Correlation plot to check relationship between columns\n",
        "corr = df.corr()\n",
        "fig = plt.figure()\n",
        "ax = fig.add_subplot(111)\n",
        "cax = ax.matshow(corr,cmap='coolwarm', vmin=-1, vmax=1)\n",
        "fig.colorbar(cax)\n",
        "ticks = np.arange(0,len(df.columns),1)\n",
        "ax.set_xticks(ticks)\n",
        "plt.xticks(rotation=90)\n",
        "ax.set_yticks(ticks)\n",
        "ax.set_xticklabels(df.columns)\n",
        "ax.set_yticklabels(df.columns)\n",
        "fig.set_size_inches(30,8)\n",
        "plt.show()"
      ],
      "execution_count": 233,
      "outputs": [
        {
          "output_type": "display_data",
          "data": {
            "image/png": "[encoded data removed]",
            "text/plain": [
              "<Figure size 2160x576 with 2 Axes>"
            ]
          },
          "metadata": {
            "tags": []
          }
        }
      ]
    },
    {
      "cell_type": "code",
      "metadata": {
        "id": "ag7YbgF5cx7g",
        "colab_type": "code",
        "colab": {
          "base_uri": "https://localhost:8080/",
          "height": 609
        },
        "outputId": "064a6ce3-f055-4838-f9c0-9983d682b058"
      },
      "source": [
        "#Stacked graph for checking realtion between weekend night stay and cancellation\n",
        "df.groupby(['stays_in_weekend_nights','is_canceled']).size().unstack().plot(kind='bar',stacked=True, figsize=(15,10))\n",
        "plt.show()"
      ],
      "execution_count": 234,
      "outputs": [
        {
          "output_type": "display_data",
          "data": {
            "image/png": "[encoded data removed]",
            "text/plain": [
              "<Figure size 1080x720 with 1 Axes>"
            ]
          },
          "metadata": {
            "tags": []
          }
        }
      ]
    },
    {
      "cell_type": "code",
      "metadata": {
        "id": "cQGujWn8k-me",
        "colab_type": "code",
        "colab": {
          "base_uri": "https://localhost:8080/",
          "height": 542
        },
        "outputId": "a7dac0e7-53f6-4fea-bb3b-347fc5cfbfec"
      },
      "source": [
        "#Unstacked graph for checking realtion between weekend night stay and cancellation\n",
        "df.groupby(['arrival_date_month','is_canceled']).size().unstack().plot(kind='bar',stacked=False, figsize=(15,8))\n",
        "plt.show()"
      ],
      "execution_count": 235,
      "outputs": [
        {
          "output_type": "display_data",
          "data": {
            "image/png": "[encoded data removed]",
            "text/plain": [
              "<Figure size 1080x576 with 1 Axes>"
            ]
          },
          "metadata": {
            "tags": []
          }
        }
      ]
    },
    {
      "cell_type": "code",
      "metadata": {
        "id": "JsjmjrQ9xuTa",
        "colab_type": "code",
        "colab": {
          "base_uri": "https://localhost:8080/",
          "height": 609
        },
        "outputId": "d1caaa95-4448-4f5e-82d7-5ad447f897d2"
      },
      "source": [
        "df[df['is_canceled']==1]"
      ],
      "execution_count": 236,
      "outputs": [
        {
          "output_type": "execute_result",
          "data": {
            "text/html": [
              "<div>\n",
              "<style scoped>\n",
              "    .dataframe tbody tr th:only-of-type {\n",
              "        vertical-align: middle;\n",
              "    }\n",
              "\n",
              "    .dataframe tbody tr th {\n",
              "        vertical-align: top;\n",
              "    }\n",
              "\n",
              "    .dataframe thead th {\n",
              "        text-align: right;\n",
              "    }\n",
              "</style>\n",
              "<table border=\"1\" class=\"dataframe\">\n",
              "  <thead>\n",
              "    <tr style=\"text-align: right;\">\n",
              "      <th></th>\n",
              "      <th>partner_ID</th>\n",
              "      <th>hotel</th>\n",
              "      <th>is_canceled</th>\n",
              "      <th>total_cost</th>\n",
              "      <th>days_betwee_reservation_and_check_in</th>\n",
              "      <th>arrival_date_year</th>\n",
              "      <th>arrival_date_month</th>\n",
              "      <th>arrival_date_week_number</th>\n",
              "      <th>arrival_date_day_of_month</th>\n",
              "      <th>stays_in_weekend_nights</th>\n",
              "      <th>stays_in_week_nights</th>\n",
              "      <th>adults</th>\n",
              "      <th>children</th>\n",
              "      <th>babies</th>\n",
              "      <th>meal_booked</th>\n",
              "      <th>market_segment</th>\n",
              "      <th>distribution_channel</th>\n",
              "      <th>is_repeated_guest</th>\n",
              "      <th>previous_cancellations</th>\n",
              "      <th>previous_bookings_not_canceled</th>\n",
              "      <th>reserved_room_type</th>\n",
              "      <th>assigned_room_type</th>\n",
              "      <th>booking_changes</th>\n",
              "      <th>required_car_parking_spaces</th>\n",
              "      <th>total_of_special_requests</th>\n",
              "      <th>reservation_status</th>\n",
              "      <th>reservation_status_date</th>\n",
              "    </tr>\n",
              "  </thead>\n",
              "  <tbody>\n",
              "    <tr>\n",
              "      <th>1</th>\n",
              "      <td>21</td>\n",
              "      <td>Resort Hotel</td>\n",
              "      <td>1</td>\n",
              "      <td>150</td>\n",
              "      <td>75</td>\n",
              "      <td>2015</td>\n",
              "      <td>July</td>\n",
              "      <td>27</td>\n",
              "      <td>1</td>\n",
              "      <td>0</td>\n",
              "      <td>3</td>\n",
              "      <td>2</td>\n",
              "      <td>0.0</td>\n",
              "      <td>0</td>\n",
              "      <td>HB</td>\n",
              "      <td>Offline TA/TO</td>\n",
              "      <td>TA/TO</td>\n",
              "      <td>0</td>\n",
              "      <td>0</td>\n",
              "      <td>0</td>\n",
              "      <td>D</td>\n",
              "      <td>D</td>\n",
              "      <td>0</td>\n",
              "      <td>0</td>\n",
              "      <td>0</td>\n",
              "      <td>Canceled</td>\n",
              "      <td>22/04/2015</td>\n",
              "    </tr>\n",
              "    <tr>\n",
              "      <th>7</th>\n",
              "      <td>27</td>\n",
              "      <td>Resort Hotel</td>\n",
              "      <td>1</td>\n",
              "      <td>150</td>\n",
              "      <td>63</td>\n",
              "      <td>2015</td>\n",
              "      <td>July</td>\n",
              "      <td>27</td>\n",
              "      <td>3</td>\n",
              "      <td>0</td>\n",
              "      <td>2</td>\n",
              "      <td>2</td>\n",
              "      <td>0.0</td>\n",
              "      <td>0</td>\n",
              "      <td>BB</td>\n",
              "      <td>Online TA</td>\n",
              "      <td>TA/TO</td>\n",
              "      <td>0</td>\n",
              "      <td>0</td>\n",
              "      <td>0</td>\n",
              "      <td>A</td>\n",
              "      <td>A</td>\n",
              "      <td>0</td>\n",
              "      <td>0</td>\n",
              "      <td>2</td>\n",
              "      <td>Canceled</td>\n",
              "      <td>18/06/2015</td>\n",
              "    </tr>\n",
              "    <tr>\n",
              "      <th>8</th>\n",
              "      <td>25</td>\n",
              "      <td>Resort Hotel</td>\n",
              "      <td>1</td>\n",
              "      <td>100</td>\n",
              "      <td>62</td>\n",
              "      <td>2015</td>\n",
              "      <td>July</td>\n",
              "      <td>27</td>\n",
              "      <td>3</td>\n",
              "      <td>0</td>\n",
              "      <td>2</td>\n",
              "      <td>2</td>\n",
              "      <td>0.0</td>\n",
              "      <td>0</td>\n",
              "      <td>BB</td>\n",
              "      <td>Online TA</td>\n",
              "      <td>TA/TO</td>\n",
              "      <td>0</td>\n",
              "      <td>0</td>\n",
              "      <td>0</td>\n",
              "      <td>D</td>\n",
              "      <td>D</td>\n",
              "      <td>0</td>\n",
              "      <td>0</td>\n",
              "      <td>1</td>\n",
              "      <td>Canceled</td>\n",
              "      <td>03/07/2015</td>\n",
              "    </tr>\n",
              "    <tr>\n",
              "      <th>14</th>\n",
              "      <td>19</td>\n",
              "      <td>Resort Hotel</td>\n",
              "      <td>1</td>\n",
              "      <td>1290</td>\n",
              "      <td>79</td>\n",
              "      <td>2015</td>\n",
              "      <td>July</td>\n",
              "      <td>27</td>\n",
              "      <td>3</td>\n",
              "      <td>6</td>\n",
              "      <td>15</td>\n",
              "      <td>2</td>\n",
              "      <td>1.0</td>\n",
              "      <td>0</td>\n",
              "      <td>BB</td>\n",
              "      <td>Offline TA/TO</td>\n",
              "      <td>TA/TO</td>\n",
              "      <td>0</td>\n",
              "      <td>0</td>\n",
              "      <td>0</td>\n",
              "      <td>A</td>\n",
              "      <td>A</td>\n",
              "      <td>0</td>\n",
              "      <td>0</td>\n",
              "      <td>2</td>\n",
              "      <td>Canceled</td>\n",
              "      <td>15/04/2015</td>\n",
              "    </tr>\n",
              "    <tr>\n",
              "      <th>20</th>\n",
              "      <td>3</td>\n",
              "      <td>Resort Hotel</td>\n",
              "      <td>1</td>\n",
              "      <td>50</td>\n",
              "      <td>33</td>\n",
              "      <td>2015</td>\n",
              "      <td>July</td>\n",
              "      <td>27</td>\n",
              "      <td>4</td>\n",
              "      <td>0</td>\n",
              "      <td>1</td>\n",
              "      <td>2</td>\n",
              "      <td>0.0</td>\n",
              "      <td>0</td>\n",
              "      <td>BB</td>\n",
              "      <td>Online TA</td>\n",
              "      <td>TA/TO</td>\n",
              "      <td>0</td>\n",
              "      <td>0</td>\n",
              "      <td>0</td>\n",
              "      <td>D</td>\n",
              "      <td>D</td>\n",
              "      <td>0</td>\n",
              "      <td>0</td>\n",
              "      <td>0</td>\n",
              "      <td>Canceled</td>\n",
              "      <td>16/06/2015</td>\n",
              "    </tr>\n",
              "    <tr>\n",
              "      <th>...</th>\n",
              "      <td>...</td>\n",
              "      <td>...</td>\n",
              "      <td>...</td>\n",
              "      <td>...</td>\n",
              "      <td>...</td>\n",
              "      <td>...</td>\n",
              "      <td>...</td>\n",
              "      <td>...</td>\n",
              "      <td>...</td>\n",
              "      <td>...</td>\n",
              "      <td>...</td>\n",
              "      <td>...</td>\n",
              "      <td>...</td>\n",
              "      <td>...</td>\n",
              "      <td>...</td>\n",
              "      <td>...</td>\n",
              "      <td>...</td>\n",
              "      <td>...</td>\n",
              "      <td>...</td>\n",
              "      <td>...</td>\n",
              "      <td>...</td>\n",
              "      <td>...</td>\n",
              "      <td>...</td>\n",
              "      <td>...</td>\n",
              "      <td>...</td>\n",
              "      <td>...</td>\n",
              "      <td>...</td>\n",
              "    </tr>\n",
              "    <tr>\n",
              "      <th>4076</th>\n",
              "      <td>26</td>\n",
              "      <td>Resort Hotel</td>\n",
              "      <td>1</td>\n",
              "      <td>50</td>\n",
              "      <td>0</td>\n",
              "      <td>2016</td>\n",
              "      <td>March</td>\n",
              "      <td>12</td>\n",
              "      <td>18</td>\n",
              "      <td>0</td>\n",
              "      <td>1</td>\n",
              "      <td>1</td>\n",
              "      <td>0.0</td>\n",
              "      <td>0</td>\n",
              "      <td>BB</td>\n",
              "      <td>Corporate</td>\n",
              "      <td>Corporate</td>\n",
              "      <td>1</td>\n",
              "      <td>0</td>\n",
              "      <td>1</td>\n",
              "      <td>A</td>\n",
              "      <td>A</td>\n",
              "      <td>0</td>\n",
              "      <td>0</td>\n",
              "      <td>0</td>\n",
              "      <td>Canceled</td>\n",
              "      <td>18/03/2016</td>\n",
              "    </tr>\n",
              "    <tr>\n",
              "      <th>4723</th>\n",
              "      <td>3</td>\n",
              "      <td>Resort Hotel</td>\n",
              "      <td>1</td>\n",
              "      <td>100</td>\n",
              "      <td>16</td>\n",
              "      <td>2016</td>\n",
              "      <td>September</td>\n",
              "      <td>39</td>\n",
              "      <td>21</td>\n",
              "      <td>0</td>\n",
              "      <td>1</td>\n",
              "      <td>1</td>\n",
              "      <td>0.0</td>\n",
              "      <td>0</td>\n",
              "      <td>BB</td>\n",
              "      <td>Corporate</td>\n",
              "      <td>Corporate</td>\n",
              "      <td>1</td>\n",
              "      <td>3</td>\n",
              "      <td>2</td>\n",
              "      <td>E</td>\n",
              "      <td>E</td>\n",
              "      <td>0</td>\n",
              "      <td>0</td>\n",
              "      <td>0</td>\n",
              "      <td>Canceled</td>\n",
              "      <td>06/09/2016</td>\n",
              "    </tr>\n",
              "    <tr>\n",
              "      <th>4724</th>\n",
              "      <td>13</td>\n",
              "      <td>Resort Hotel</td>\n",
              "      <td>1</td>\n",
              "      <td>50</td>\n",
              "      <td>5</td>\n",
              "      <td>2016</td>\n",
              "      <td>October</td>\n",
              "      <td>42</td>\n",
              "      <td>12</td>\n",
              "      <td>0</td>\n",
              "      <td>1</td>\n",
              "      <td>1</td>\n",
              "      <td>0.0</td>\n",
              "      <td>0</td>\n",
              "      <td>BB</td>\n",
              "      <td>Corporate</td>\n",
              "      <td>Corporate</td>\n",
              "      <td>1</td>\n",
              "      <td>4</td>\n",
              "      <td>2</td>\n",
              "      <td>E</td>\n",
              "      <td>E</td>\n",
              "      <td>0</td>\n",
              "      <td>0</td>\n",
              "      <td>0</td>\n",
              "      <td>Canceled</td>\n",
              "      <td>07/10/2016</td>\n",
              "    </tr>\n",
              "    <tr>\n",
              "      <th>5369</th>\n",
              "      <td>16</td>\n",
              "      <td>Resort Hotel</td>\n",
              "      <td>1</td>\n",
              "      <td>90</td>\n",
              "      <td>1</td>\n",
              "      <td>2016</td>\n",
              "      <td>October</td>\n",
              "      <td>45</td>\n",
              "      <td>30</td>\n",
              "      <td>1</td>\n",
              "      <td>0</td>\n",
              "      <td>2</td>\n",
              "      <td>0.0</td>\n",
              "      <td>0</td>\n",
              "      <td>BB</td>\n",
              "      <td>Direct</td>\n",
              "      <td>Direct</td>\n",
              "      <td>0</td>\n",
              "      <td>0</td>\n",
              "      <td>0</td>\n",
              "      <td>A</td>\n",
              "      <td>A</td>\n",
              "      <td>0</td>\n",
              "      <td>0</td>\n",
              "      <td>0</td>\n",
              "      <td>No-Show</td>\n",
              "      <td>30/10/2016</td>\n",
              "    </tr>\n",
              "    <tr>\n",
              "      <th>5955</th>\n",
              "      <td>25</td>\n",
              "      <td>Resort Hotel</td>\n",
              "      <td>1</td>\n",
              "      <td>50</td>\n",
              "      <td>20</td>\n",
              "      <td>2017</td>\n",
              "      <td>February</td>\n",
              "      <td>6</td>\n",
              "      <td>7</td>\n",
              "      <td>0</td>\n",
              "      <td>1</td>\n",
              "      <td>2</td>\n",
              "      <td>0.0</td>\n",
              "      <td>0</td>\n",
              "      <td>BB</td>\n",
              "      <td>Direct</td>\n",
              "      <td>Direct</td>\n",
              "      <td>0</td>\n",
              "      <td>0</td>\n",
              "      <td>0</td>\n",
              "      <td>A</td>\n",
              "      <td>A</td>\n",
              "      <td>0</td>\n",
              "      <td>0</td>\n",
              "      <td>1</td>\n",
              "      <td>Canceled</td>\n",
              "      <td>07/02/2017</td>\n",
              "    </tr>\n",
              "  </tbody>\n",
              "</table>\n",
              "<p>2080 rows × 27 columns</p>\n",
              "</div>"
            ],
            "text/plain": [
              "      partner_ID         hotel  ...  reservation_status  reservation_status_date\n",
              "1             21  Resort Hotel  ...            Canceled               22/04/2015\n",
              "7             27  Resort Hotel  ...            Canceled               18/06/2015\n",
              "8             25  Resort Hotel  ...            Canceled               03/07/2015\n",
              "14            19  Resort Hotel  ...            Canceled               15/04/2015\n",
              "20             3  Resort Hotel  ...            Canceled               16/06/2015\n",
              "...          ...           ...  ...                 ...                      ...\n",
              "4076          26  Resort Hotel  ...            Canceled               18/03/2016\n",
              "4723           3  Resort Hotel  ...            Canceled               06/09/2016\n",
              "4724          13  Resort Hotel  ...            Canceled               07/10/2016\n",
              "5369          16  Resort Hotel  ...             No-Show               30/10/2016\n",
              "5955          25  Resort Hotel  ...            Canceled               07/02/2017\n",
              "\n",
              "[2080 rows x 27 columns]"
            ]
          },
          "metadata": {
            "tags": []
          },
          "execution_count": 236
        }
      ]
    },
    {
      "cell_type": "code",
      "metadata": {
        "id": "MwWZK0OL82Mq",
        "colab_type": "code",
        "colab": {
          "base_uri": "https://localhost:8080/",
          "height": 204
        },
        "outputId": "7b6243d5-3b5a-43b1-c4f4-82e3ee52b195"
      },
      "source": [
        "df.columns"
      ],
      "execution_count": 237,
      "outputs": [
        {
          "output_type": "execute_result",
          "data": {
            "text/plain": [
              "Index(['partner_ID', 'hotel', 'is_canceled', 'total_cost',\n",
              "       'days_betwee_reservation_and_check_in', 'arrival_date_year',\n",
              "       'arrival_date_month', 'arrival_date_week_number',\n",
              "       'arrival_date_day_of_month', 'stays_in_weekend_nights',\n",
              "       'stays_in_week_nights', 'adults', 'children', 'babies', 'meal_booked',\n",
              "       'market_segment', 'distribution_channel', 'is_repeated_guest',\n",
              "       'previous_cancellations', 'previous_bookings_not_canceled',\n",
              "       'reserved_room_type', 'assigned_room_type', 'booking_changes',\n",
              "       'required_car_parking_spaces', 'total_of_special_requests',\n",
              "       'reservation_status', 'reservation_status_date'],\n",
              "      dtype='object')"
            ]
          },
          "metadata": {
            "tags": []
          },
          "execution_count": 237
        }
      ]
    },
    {
      "cell_type": "code",
      "metadata": {
        "id": "RjPD4T8NWtOq",
        "colab_type": "code",
        "colab": {
          "base_uri": "https://localhost:8080/",
          "height": 609
        },
        "outputId": "3a0f2b1c-d220-4c65-9beb-6b33bb2763b8"
      },
      "source": [
        "#converting categorial parameters into numerical by \n",
        "from sklearn.preprocessing import LabelEncoder\n",
        "# convert a string variable to a categorical one\n",
        "df[[\"arrival_date_month\"]] = df[[\"arrival_date_month\"]].apply(LabelEncoder().fit_transform)\n",
        "df[[\"meal_booked\"]] = df[[\"meal_booked\"]].apply(LabelEncoder().fit_transform)\n",
        "df[[\"market_segment\"]] = df[[\"market_segment\"]].apply(LabelEncoder().fit_transform)\n",
        "df[[\"distribution_channel\"]] = df[[\"distribution_channel\"]].apply(LabelEncoder().fit_transform)\n",
        "df[[\"reserved_room_type\"]] = df[[\"reserved_room_type\"]].apply(LabelEncoder().fit_transform)\n",
        "df[[\"assigned_room_type\"]] = df[[\"assigned_room_type\"]].apply(LabelEncoder().fit_transform)\n",
        "df[[\"reservation_status\"]] = df[[\"reservation_status\"]].apply(LabelEncoder().fit_transform)\n",
        "df[[\"reservation_status_date\"]] = df[[\"reservation_status_date\"]].apply(LabelEncoder().fit_transform)\n",
        "\n",
        "df"
      ],
      "execution_count": 238,
      "outputs": [
        {
          "output_type": "execute_result",
          "data": {
            "text/html": [
              "<div>\n",
              "<style scoped>\n",
              "    .dataframe tbody tr th:only-of-type {\n",
              "        vertical-align: middle;\n",
              "    }\n",
              "\n",
              "    .dataframe tbody tr th {\n",
              "        vertical-align: top;\n",
              "    }\n",
              "\n",
              "    .dataframe thead th {\n",
              "        text-align: right;\n",
              "    }\n",
              "</style>\n",
              "<table border=\"1\" class=\"dataframe\">\n",
              "  <thead>\n",
              "    <tr style=\"text-align: right;\">\n",
              "      <th></th>\n",
              "      <th>partner_ID</th>\n",
              "      <th>hotel</th>\n",
              "      <th>is_canceled</th>\n",
              "      <th>total_cost</th>\n",
              "      <th>days_betwee_reservation_and_check_in</th>\n",
              "      <th>arrival_date_year</th>\n",
              "      <th>arrival_date_month</th>\n",
              "      <th>arrival_date_week_number</th>\n",
              "      <th>arrival_date_day_of_month</th>\n",
              "      <th>stays_in_weekend_nights</th>\n",
              "      <th>stays_in_week_nights</th>\n",
              "      <th>adults</th>\n",
              "      <th>children</th>\n",
              "      <th>babies</th>\n",
              "      <th>meal_booked</th>\n",
              "      <th>market_segment</th>\n",
              "      <th>distribution_channel</th>\n",
              "      <th>is_repeated_guest</th>\n",
              "      <th>previous_cancellations</th>\n",
              "      <th>previous_bookings_not_canceled</th>\n",
              "      <th>reserved_room_type</th>\n",
              "      <th>assigned_room_type</th>\n",
              "      <th>booking_changes</th>\n",
              "      <th>required_car_parking_spaces</th>\n",
              "      <th>total_of_special_requests</th>\n",
              "      <th>reservation_status</th>\n",
              "      <th>reservation_status_date</th>\n",
              "    </tr>\n",
              "  </thead>\n",
              "  <tbody>\n",
              "    <tr>\n",
              "      <th>0</th>\n",
              "      <td>25</td>\n",
              "      <td>Resort Hotel</td>\n",
              "      <td>0</td>\n",
              "      <td>50</td>\n",
              "      <td>7</td>\n",
              "      <td>2015</td>\n",
              "      <td>5</td>\n",
              "      <td>27</td>\n",
              "      <td>1</td>\n",
              "      <td>0</td>\n",
              "      <td>1</td>\n",
              "      <td>1</td>\n",
              "      <td>0.0</td>\n",
              "      <td>0</td>\n",
              "      <td>0</td>\n",
              "      <td>2</td>\n",
              "      <td>1</td>\n",
              "      <td>0</td>\n",
              "      <td>0</td>\n",
              "      <td>0</td>\n",
              "      <td>0</td>\n",
              "      <td>2</td>\n",
              "      <td>0</td>\n",
              "      <td>0</td>\n",
              "      <td>0</td>\n",
              "      <td>1</td>\n",
              "      <td>43</td>\n",
              "    </tr>\n",
              "    <tr>\n",
              "      <th>1</th>\n",
              "      <td>21</td>\n",
              "      <td>Resort Hotel</td>\n",
              "      <td>1</td>\n",
              "      <td>150</td>\n",
              "      <td>75</td>\n",
              "      <td>2015</td>\n",
              "      <td>5</td>\n",
              "      <td>27</td>\n",
              "      <td>1</td>\n",
              "      <td>0</td>\n",
              "      <td>3</td>\n",
              "      <td>2</td>\n",
              "      <td>0.0</td>\n",
              "      <td>0</td>\n",
              "      <td>2</td>\n",
              "      <td>4</td>\n",
              "      <td>2</td>\n",
              "      <td>0</td>\n",
              "      <td>0</td>\n",
              "      <td>0</td>\n",
              "      <td>2</td>\n",
              "      <td>3</td>\n",
              "      <td>0</td>\n",
              "      <td>0</td>\n",
              "      <td>0</td>\n",
              "      <td>0</td>\n",
              "      <td>596</td>\n",
              "    </tr>\n",
              "    <tr>\n",
              "      <th>2</th>\n",
              "      <td>18</td>\n",
              "      <td>Resort Hotel</td>\n",
              "      <td>0</td>\n",
              "      <td>430</td>\n",
              "      <td>127</td>\n",
              "      <td>2015</td>\n",
              "      <td>5</td>\n",
              "      <td>27</td>\n",
              "      <td>1</td>\n",
              "      <td>2</td>\n",
              "      <td>5</td>\n",
              "      <td>2</td>\n",
              "      <td>0.0</td>\n",
              "      <td>0</td>\n",
              "      <td>2</td>\n",
              "      <td>4</td>\n",
              "      <td>2</td>\n",
              "      <td>0</td>\n",
              "      <td>0</td>\n",
              "      <td>0</td>\n",
              "      <td>2</td>\n",
              "      <td>8</td>\n",
              "      <td>0</td>\n",
              "      <td>0</td>\n",
              "      <td>1</td>\n",
              "      <td>1</td>\n",
              "      <td>14</td>\n",
              "    </tr>\n",
              "    <tr>\n",
              "      <th>3</th>\n",
              "      <td>2</td>\n",
              "      <td>Resort Hotel</td>\n",
              "      <td>0</td>\n",
              "      <td>910</td>\n",
              "      <td>95</td>\n",
              "      <td>2015</td>\n",
              "      <td>5</td>\n",
              "      <td>27</td>\n",
              "      <td>1</td>\n",
              "      <td>4</td>\n",
              "      <td>11</td>\n",
              "      <td>2</td>\n",
              "      <td>0.0</td>\n",
              "      <td>0</td>\n",
              "      <td>0</td>\n",
              "      <td>4</td>\n",
              "      <td>2</td>\n",
              "      <td>0</td>\n",
              "      <td>0</td>\n",
              "      <td>0</td>\n",
              "      <td>2</td>\n",
              "      <td>3</td>\n",
              "      <td>0</td>\n",
              "      <td>0</td>\n",
              "      <td>0</td>\n",
              "      <td>1</td>\n",
              "      <td>434</td>\n",
              "    </tr>\n",
              "    <tr>\n",
              "      <th>4</th>\n",
              "      <td>18</td>\n",
              "      <td>Resort Hotel</td>\n",
              "      <td>0</td>\n",
              "      <td>240</td>\n",
              "      <td>36</td>\n",
              "      <td>2015</td>\n",
              "      <td>5</td>\n",
              "      <td>27</td>\n",
              "      <td>2</td>\n",
              "      <td>1</td>\n",
              "      <td>3</td>\n",
              "      <td>3</td>\n",
              "      <td>0.0</td>\n",
              "      <td>0</td>\n",
              "      <td>0</td>\n",
              "      <td>5</td>\n",
              "      <td>2</td>\n",
              "      <td>0</td>\n",
              "      <td>0</td>\n",
              "      <td>0</td>\n",
              "      <td>2</td>\n",
              "      <td>3</td>\n",
              "      <td>0</td>\n",
              "      <td>0</td>\n",
              "      <td>1</td>\n",
              "      <td>1</td>\n",
              "      <td>158</td>\n",
              "    </tr>\n",
              "    <tr>\n",
              "      <th>...</th>\n",
              "      <td>...</td>\n",
              "      <td>...</td>\n",
              "      <td>...</td>\n",
              "      <td>...</td>\n",
              "      <td>...</td>\n",
              "      <td>...</td>\n",
              "      <td>...</td>\n",
              "      <td>...</td>\n",
              "      <td>...</td>\n",
              "      <td>...</td>\n",
              "      <td>...</td>\n",
              "      <td>...</td>\n",
              "      <td>...</td>\n",
              "      <td>...</td>\n",
              "      <td>...</td>\n",
              "      <td>...</td>\n",
              "      <td>...</td>\n",
              "      <td>...</td>\n",
              "      <td>...</td>\n",
              "      <td>...</td>\n",
              "      <td>...</td>\n",
              "      <td>...</td>\n",
              "      <td>...</td>\n",
              "      <td>...</td>\n",
              "      <td>...</td>\n",
              "      <td>...</td>\n",
              "      <td>...</td>\n",
              "    </tr>\n",
              "    <tr>\n",
              "      <th>7222</th>\n",
              "      <td>23</td>\n",
              "      <td>Resort Hotel</td>\n",
              "      <td>0</td>\n",
              "      <td>370</td>\n",
              "      <td>206</td>\n",
              "      <td>2017</td>\n",
              "      <td>1</td>\n",
              "      <td>35</td>\n",
              "      <td>31</td>\n",
              "      <td>2</td>\n",
              "      <td>4</td>\n",
              "      <td>3</td>\n",
              "      <td>0.0</td>\n",
              "      <td>0</td>\n",
              "      <td>0</td>\n",
              "      <td>2</td>\n",
              "      <td>1</td>\n",
              "      <td>0</td>\n",
              "      <td>0</td>\n",
              "      <td>0</td>\n",
              "      <td>2</td>\n",
              "      <td>3</td>\n",
              "      <td>0</td>\n",
              "      <td>1</td>\n",
              "      <td>1</td>\n",
              "      <td>1</td>\n",
              "      <td>166</td>\n",
              "    </tr>\n",
              "    <tr>\n",
              "      <th>7223</th>\n",
              "      <td>2</td>\n",
              "      <td>Resort Hotel</td>\n",
              "      <td>0</td>\n",
              "      <td>430</td>\n",
              "      <td>151</td>\n",
              "      <td>2017</td>\n",
              "      <td>1</td>\n",
              "      <td>35</td>\n",
              "      <td>31</td>\n",
              "      <td>2</td>\n",
              "      <td>5</td>\n",
              "      <td>2</td>\n",
              "      <td>0.0</td>\n",
              "      <td>0</td>\n",
              "      <td>0</td>\n",
              "      <td>2</td>\n",
              "      <td>1</td>\n",
              "      <td>0</td>\n",
              "      <td>0</td>\n",
              "      <td>0</td>\n",
              "      <td>0</td>\n",
              "      <td>0</td>\n",
              "      <td>0</td>\n",
              "      <td>0</td>\n",
              "      <td>0</td>\n",
              "      <td>1</td>\n",
              "      <td>193</td>\n",
              "    </tr>\n",
              "    <tr>\n",
              "      <th>7224</th>\n",
              "      <td>12</td>\n",
              "      <td>Resort Hotel</td>\n",
              "      <td>0</td>\n",
              "      <td>500</td>\n",
              "      <td>194</td>\n",
              "      <td>2017</td>\n",
              "      <td>1</td>\n",
              "      <td>35</td>\n",
              "      <td>31</td>\n",
              "      <td>2</td>\n",
              "      <td>5</td>\n",
              "      <td>2</td>\n",
              "      <td>1.0</td>\n",
              "      <td>0</td>\n",
              "      <td>2</td>\n",
              "      <td>5</td>\n",
              "      <td>2</td>\n",
              "      <td>0</td>\n",
              "      <td>0</td>\n",
              "      <td>0</td>\n",
              "      <td>5</td>\n",
              "      <td>6</td>\n",
              "      <td>3</td>\n",
              "      <td>1</td>\n",
              "      <td>1</td>\n",
              "      <td>1</td>\n",
              "      <td>193</td>\n",
              "    </tr>\n",
              "    <tr>\n",
              "      <th>7225</th>\n",
              "      <td>12</td>\n",
              "      <td>Resort Hotel</td>\n",
              "      <td>0</td>\n",
              "      <td>860</td>\n",
              "      <td>270</td>\n",
              "      <td>2017</td>\n",
              "      <td>1</td>\n",
              "      <td>34</td>\n",
              "      <td>25</td>\n",
              "      <td>4</td>\n",
              "      <td>10</td>\n",
              "      <td>2</td>\n",
              "      <td>0.0</td>\n",
              "      <td>0</td>\n",
              "      <td>2</td>\n",
              "      <td>4</td>\n",
              "      <td>2</td>\n",
              "      <td>0</td>\n",
              "      <td>0</td>\n",
              "      <td>0</td>\n",
              "      <td>2</td>\n",
              "      <td>3</td>\n",
              "      <td>0</td>\n",
              "      <td>0</td>\n",
              "      <td>0</td>\n",
              "      <td>1</td>\n",
              "      <td>221</td>\n",
              "    </tr>\n",
              "    <tr>\n",
              "      <th>7226</th>\n",
              "      <td>10</td>\n",
              "      <td>Resort Hotel</td>\n",
              "      <td>0</td>\n",
              "      <td>840</td>\n",
              "      <td>207</td>\n",
              "      <td>2017</td>\n",
              "      <td>1</td>\n",
              "      <td>34</td>\n",
              "      <td>26</td>\n",
              "      <td>4</td>\n",
              "      <td>10</td>\n",
              "      <td>2</td>\n",
              "      <td>0.0</td>\n",
              "      <td>0</td>\n",
              "      <td>2</td>\n",
              "      <td>4</td>\n",
              "      <td>2</td>\n",
              "      <td>0</td>\n",
              "      <td>0</td>\n",
              "      <td>0</td>\n",
              "      <td>3</td>\n",
              "      <td>4</td>\n",
              "      <td>0</td>\n",
              "      <td>0</td>\n",
              "      <td>2</td>\n",
              "      <td>1</td>\n",
              "      <td>250</td>\n",
              "    </tr>\n",
              "  </tbody>\n",
              "</table>\n",
              "<p>7227 rows × 27 columns</p>\n",
              "</div>"
            ],
            "text/plain": [
              "      partner_ID         hotel  ...  reservation_status  reservation_status_date\n",
              "0             25  Resort Hotel  ...                   1                       43\n",
              "1             21  Resort Hotel  ...                   0                      596\n",
              "2             18  Resort Hotel  ...                   1                       14\n",
              "3              2  Resort Hotel  ...                   1                      434\n",
              "4             18  Resort Hotel  ...                   1                      158\n",
              "...          ...           ...  ...                 ...                      ...\n",
              "7222          23  Resort Hotel  ...                   1                      166\n",
              "7223           2  Resort Hotel  ...                   1                      193\n",
              "7224          12  Resort Hotel  ...                   1                      193\n",
              "7225          12  Resort Hotel  ...                   1                      221\n",
              "7226          10  Resort Hotel  ...                   1                      250\n",
              "\n",
              "[7227 rows x 27 columns]"
            ]
          },
          "metadata": {
            "tags": []
          },
          "execution_count": 238
        }
      ]
    },
    {
      "cell_type": "code",
      "metadata": {
        "id": "47j078iSdlby",
        "colab_type": "code",
        "colab": {}
      },
      "source": [
        "#Preparing Data for training purpose for ExtraTreesClassifier to predict cancellation\n",
        "features=[ 'total_cost',\n",
        "       'days_betwee_reservation_and_check_in', 'arrival_date_year',\n",
        "       'arrival_date_month',\n",
        "        'stays_in_weekend_nights',\n",
        "        'adults', 'children', \n",
        "       'market_segment', 'distribution_channel', 'is_repeated_guest',\n",
        "       'previous_cancellations', \n",
        "       'previous_cancellations','babies','reserved_room_type','previous_bookings_not_canceled','required_car_parking_spaces',\n",
        "        'reservation_status_date']\n",
        "\n",
        "# prepare train and target\n",
        "data=df\n",
        "data=data.drop(['stays_in_week_nights',  'assigned_room_type', 'booking_changes','meal_booked','total_of_special_requests','arrival_date_week_number','is_canceled','hotel','reservation_status','arrival_date_day_of_month','partner_ID'],axis=1)\n",
        "target=df['is_canceled']"
      ],
      "execution_count": 0,
      "outputs": []
    },
    {
      "cell_type": "code",
      "metadata": {
        "id": "vTAZu3ODSo3b",
        "colab_type": "code",
        "colab": {
          "base_uri": "https://localhost:8080/",
          "height": 187
        },
        "outputId": "a4607ce5-6d72-43a6-f3ed-5380b4a91afa"
      },
      "source": [
        "#Predicting Cancellation with help of stratified ExtraTreesClassifier\n",
        "from sklearn import datasets\n",
        "from sklearn.feature_selection import RFE\n",
        "from sklearn.linear_model import LogisticRegression\n",
        "from sklearn.model_selection import StratifiedKFold\n",
        "from sklearn.metrics import make_scorer, confusion_matrix\n",
        "from sklearn.metrics import accuracy_score as acc\n",
        "from sklearn.ensemble import ExtraTreesClassifier\n",
        "\n",
        "# prepare train and target\n",
        "#data=df\n",
        "#data=data.drop(['stays_in_week_nights','previous_bookings_not_canceled', 'reserved_room_type', 'assigned_room_type', 'booking_changes','meal_booked','total_of_special_requests','arrival_date_week_number','required_car_parking_spaces','is_canceled','hotel','reservation_status','arrival_date_day_of_month','previous_cancellations','babies','partner_ID'],axis=1)\n",
        "#target=df['is_canceled']\n",
        "# create a base classifier used to evaluate a subset of attributes\n",
        "#model = LogisticRegression()\n",
        "# create the RFE model and select 3 attributes\n",
        "\n",
        "clf = ExtraTreesClassifier(n_estimators=100, max_depth=4)\n",
        "skf = StratifiedKFold(n_splits=10)\n",
        "score=[]\n",
        "for train,test in skf.split(data, target):\n",
        "  clf.fit(data.iloc[train],target.iloc[train])\n",
        "  y_pred=clf.predict(data.iloc[test])\n",
        "  y_true=target[test]\n",
        "  score.append(acc(y_true,y_pred))\n",
        "score\n",
        "# summarize the selection of the attributes\n",
        "\n",
        "#print( rfe.ranking_)"
      ],
      "execution_count": 240,
      "outputs": [
        {
          "output_type": "execute_result",
          "data": {
            "text/plain": [
              "[0.7123098201936376,\n",
              " 0.7123098201936376,\n",
              " 0.7123098201936376,\n",
              " 0.7123098201936376,\n",
              " 0.7123098201936376,\n",
              " 0.7123098201936376,\n",
              " 0.7123098201936376,\n",
              " 0.7119113573407202,\n",
              " 0.7119113573407202,\n",
              " 0.7022160664819944]"
            ]
          },
          "metadata": {
            "tags": []
          },
          "execution_count": 240
        }
      ]
    },
    {
      "cell_type": "code",
      "metadata": {
        "id": "VUZ_gdu8dLzr",
        "colab_type": "code",
        "colab": {
          "base_uri": "https://localhost:8080/",
          "height": 843
        },
        "outputId": "e9f1cff3-9dc8-4bd8-fa42-218c2379d79d"
      },
      "source": [
        "# Recursive Feature Elimination by importance sampling by checking result and its percentange to contribute in result\n",
        "importances = clf.feature_importances_\n",
        "std = np.std([tree.feature_importances_ for tree in clf.estimators_],\n",
        "             axis=0)\n",
        "indices = np.argsort(importances)[::-1]\n",
        "print(indices)\n",
        "# Print the feature ranking\n",
        "print(\"Feature ranking:\")\n",
        "\n",
        "for f in range(data.shape[1]):\n",
        "    print(\"%d. %s (%f)\" % (f + 1, features[indices[f]],  importances[indices[f]]))\n",
        "\n",
        "# Plot the feature importances of the forest\n",
        "fig = plt.figure()\n",
        "plt.title(\"Feature importances\")\n",
        "plt.bar(range(data.shape[1]), importances[indices],\n",
        "       color=\"r\", yerr=std[indices], align=\"center\")\n",
        "plt.xticks(range(data.shape[1]), np.array(features)[indices])\n",
        "plt.xlim([-1, data.shape[1]])\n",
        "fig.set_size_inches(50,8)\n",
        "axes = plt.gca()\n",
        "axes.set_ylim([0,None])"
      ],
      "execution_count": 241,
      "outputs": [
        {
          "output_type": "stream",
          "text": [
            "[14  2  1  9  8 10  6  5 12  3  4  0 13 15 11  7]\n",
            "Feature ranking:\n",
            "1. previous_bookings_not_canceled (0.203858)\n",
            "2. arrival_date_year (0.170558)\n",
            "3. days_betwee_reservation_and_check_in (0.157923)\n",
            "4. is_repeated_guest (0.113819)\n",
            "5. distribution_channel (0.110432)\n",
            "6. previous_cancellations (0.110344)\n",
            "7. children (0.031934)\n",
            "8. adults (0.028090)\n",
            "9. babies (0.023250)\n",
            "10. arrival_date_month (0.023018)\n",
            "11. stays_in_weekend_nights (0.007621)\n",
            "12. total_cost (0.007226)\n",
            "13. reserved_room_type (0.005173)\n",
            "14. required_car_parking_spaces (0.003292)\n",
            "15. previous_cancellations (0.001817)\n",
            "16. market_segment (0.001645)\n"
          ],
          "name": "stdout"
        },
        {
          "output_type": "execute_result",
          "data": {
            "text/plain": [
              "(0, 0.4259687551898342)"
            ]
          },
          "metadata": {
            "tags": []
          },
          "execution_count": 241
        },
        {
          "output_type": "display_data",
          "data": {
            "image/png": "[encoded data removed]",
            "text/plain": [
              "<Figure size 3600x576 with 1 Axes>"
            ]
          },
          "metadata": {
            "tags": []
          }
        }
      ]
    },
    {
      "cell_type": "code",
      "metadata": {
        "id": "6k3i5sUqOvkf",
        "colab_type": "code",
        "colab": {}
      },
      "source": [
        "#Preparing Data for training purpose for ExtraTreesClassifier to predict Total cost means booking cost\n",
        "features2=[ 'is_canceled',\n",
        "       'days_betwee_reservation_and_check_in', 'arrival_date_year',\n",
        "       'arrival_date_month',\n",
        "        'stays_in_weekend_nights',\n",
        "        'adults', 'children', \n",
        "       'market_segment', 'distribution_channel', 'is_repeated_guest',\n",
        "       'previous_cancellations', \n",
        "       'previous_cancellations','babies','reserved_room_type','previous_bookings_not_canceled','required_car_parking_spaces',\n",
        "        'reservation_status_date']\n",
        "\n",
        "# prepare train and target\n",
        "data2=df\n",
        "data2=data2.drop(['stays_in_week_nights',  'assigned_room_type', 'booking_changes','meal_booked','total_of_special_requests','arrival_date_week_number','is_canceled','hotel','reservation_status','arrival_date_day_of_month','partner_ID'],axis=1)\n",
        "target2=df['total_cost']"
      ],
      "execution_count": 0,
      "outputs": []
    },
    {
      "cell_type": "code",
      "metadata": {
        "id": "zneRA1cePMzP",
        "colab_type": "code",
        "colab": {
          "base_uri": "https://localhost:8080/",
          "height": 241
        },
        "outputId": "b9612a14-185d-47d9-8bf7-054374be4e90"
      },
      "source": [
        "#Predicting Booking cost with help of stratified ExtraTreesClassifier\n",
        "\n",
        "clf = ExtraTreesClassifier(n_estimators=100, max_depth=4)\n",
        "skf = StratifiedKFold(n_splits=10)\n",
        "score=[]\n",
        "for train,test in skf.split(data2, target2):\n",
        "  clf.fit(data2.iloc[train],target2.iloc[train])\n",
        "  y_pred=clf.predict(data2.iloc[test])\n",
        "  y_true=target2[test]\n",
        "  score.append(acc(y_true,y_pred))\n",
        "score"
      ],
      "execution_count": 243,
      "outputs": [
        {
          "output_type": "stream",
          "text": [
            "/usr/local/lib/python3.6/dist-packages/sklearn/model_selection/_split.py:667: UserWarning: The least populated class in y has only 1 members, which is less than n_splits=10.\n",
            "  % (min_groups, self.n_splits)), UserWarning)\n"
          ],
          "name": "stderr"
        },
        {
          "output_type": "execute_result",
          "data": {
            "text/plain": [
              "[0.21853388658367912,\n",
              " 0.21161825726141079,\n",
              " 0.1839557399723375,\n",
              " 0.19225449515905949,\n",
              " 0.1839557399723375,\n",
              " 0.20055325034578148,\n",
              " 0.2157676348547718,\n",
              " 0.20221606648199447,\n",
              " 0.19806094182825484,\n",
              " 0.22299168975069253]"
            ]
          },
          "metadata": {
            "tags": []
          },
          "execution_count": 243
        }
      ]
    },
    {
      "cell_type": "code",
      "metadata": {
        "id": "jGbmz7FXPvvU",
        "colab_type": "code",
        "colab": {
          "base_uri": "https://localhost:8080/",
          "height": 843
        },
        "outputId": "8fa3b012-85ba-4e44-f216-0b94326d9af4"
      },
      "source": [
        "#Checking out important features which are contributing more for prediction of booking cost\n",
        "importances = clf.feature_importances_\n",
        "std = np.std([tree.feature_importances_ for tree in clf.estimators_],\n",
        "             axis=0)\n",
        "indices = np.argsort(importances)[::-1]\n",
        "print(indices)\n",
        "# Print the feature ranking\n",
        "print(\"Feature ranking:\")\n",
        "\n",
        "for f in range(data2.shape[1]):\n",
        "    print(\"%d. %s (%f)\" % (f + 1, features2[indices[f]],  importances[indices[f]]))\n",
        "\n",
        "# Plot the feature importances of the forest\n",
        "fig = plt.figure()\n",
        "plt.title(\"Feature importances\")\n",
        "plt.bar(range(data2.shape[1]), importances[indices],\n",
        "       color=\"r\", yerr=std[indices], align=\"center\")\n",
        "plt.xticks(range(data2.shape[1]), np.array(features2)[indices])\n",
        "plt.xlim([-1, data2.shape[1]])\n",
        "fig.set_size_inches(50,8)\n",
        "axes = plt.gca()\n",
        "axes.set_ylim([0,None])"
      ],
      "execution_count": 244,
      "outputs": [
        {
          "output_type": "stream",
          "text": [
            "[ 0  4  1 14  9  8  5 10 13  3 11  2 12 15  6  7]\n",
            "Feature ranking:\n",
            "1. is_canceled (0.251743)\n",
            "2. stays_in_weekend_nights (0.227394)\n",
            "3. days_betwee_reservation_and_check_in (0.129770)\n",
            "4. previous_bookings_not_canceled (0.100222)\n",
            "5. is_repeated_guest (0.067263)\n",
            "6. distribution_channel (0.055749)\n",
            "7. adults (0.041357)\n",
            "8. previous_cancellations (0.036940)\n",
            "9. reserved_room_type (0.023486)\n",
            "10. arrival_date_month (0.014690)\n",
            "11. previous_cancellations (0.014072)\n",
            "12. arrival_date_year (0.012032)\n",
            "13. babies (0.009502)\n",
            "14. required_car_parking_spaces (0.007794)\n",
            "15. children (0.005829)\n",
            "16. market_segment (0.002156)\n"
          ],
          "name": "stdout"
        },
        {
          "output_type": "execute_result",
          "data": {
            "text/plain": [
              "(0, 0.5217949972048734)"
            ]
          },
          "metadata": {
            "tags": []
          },
          "execution_count": 244
        },
        {
          "output_type": "display_data",
          "data": {
            "image/png": "[encoded data removed]",
            "text/plain": [
              "<Figure size 3600x576 with 1 Axes>"
            ]
          },
          "metadata": {
            "tags": []
          }
        }
      ]
    },
    {
      "cell_type": "code",
      "metadata": {
        "id": "o-DMySN9T1fU",
        "colab_type": "code",
        "colab": {
          "base_uri": "https://localhost:8080/",
          "height": 316
        },
        "outputId": "5204e7c0-cd83-4f09-8fa6-5fb9b42d1ba2"
      },
      "source": [
        "from sklearn.preprocessing import MinMaxScaler\n",
        "# train the normalization\n",
        "series=df['total_cost']\n",
        "values = series.values\n",
        "values = values.reshape((len(values), 1))\n",
        "scaler = MinMaxScaler(feature_range=(0, 1))\n",
        "scaler = scaler.fit(values)\n",
        "print('Min: %f, Max: %f' % (scaler.data_min_, scaler.data_max_))\n",
        "# normalize the dataset and print the first 5 rows\n",
        "normalized = scaler.transform(values)\n",
        "print(plt.hist(normalized))"
      ],
      "execution_count": 245,
      "outputs": [
        {
          "output_type": "stream",
          "text": [
            "Min: -20.000000, Max: 4250.000000\n",
            "(array([5.283e+03, 1.742e+03, 1.750e+02, 1.900e+01, 6.000e+00, 0.000e+00,\n",
            "       0.000e+00, 0.000e+00, 1.000e+00, 1.000e+00]), array([0. , 0.1, 0.2, 0.3, 0.4, 0.5, 0.6, 0.7, 0.8, 0.9, 1. ]), <a list of 10 Patch objects>)\n"
          ],
          "name": "stdout"
        },
        {
          "output_type": "display_data",
          "data": {
            "image/png": "[encoded data removed]",
            "text/plain": [
              "<Figure size 432x288 with 1 Axes>"
            ]
          },
          "metadata": {
            "tags": []
          }
        }
      ]
    },
    {
      "cell_type": "code",
      "metadata": {
        "id": "DaJszSHlAJ_z",
        "colab_type": "code",
        "colab": {
          "base_uri": "https://localhost:8080/",
          "height": 34
        },
        "outputId": "e3f0e485-c301-4432-ebc3-2ebea5e7691a"
      },
      "source": [
        "from sklearn.preprocessing import RobustScaler\n",
        "robust = RobustScaler(quantile_range = (0.1,0.9))\n",
        "max(robust.fit_transform(df['total_cost'].values.reshape(-1, 1)))"
      ],
      "execution_count": 246,
      "outputs": [
        {
          "output_type": "execute_result",
          "data": {
            "text/plain": [
              "array([88.39050132])"
            ]
          },
          "metadata": {
            "tags": []
          },
          "execution_count": 246
        }
      ]
    },
    {
      "cell_type": "code",
      "metadata": {
        "id": "QH4X5r7dmXDc",
        "colab_type": "code",
        "colab": {
          "base_uri": "https://localhost:8080/",
          "height": 561
        },
        "outputId": "60fe92b4-71aa-434c-952e-de76fe373d57"
      },
      "source": [
        "#Most profitable partners top to bottom on basis total bookings costs\n",
        "df.groupby('partner_ID')['total_cost'].sum().sort_values(ascending=False)"
      ],
      "execution_count": 247,
      "outputs": [
        {
          "output_type": "execute_result",
          "data": {
            "text/plain": [
              "partner_ID\n",
              "6     76990\n",
              "15    74780\n",
              "12    74680\n",
              "18    74430\n",
              "24    73930\n",
              "27    73030\n",
              "14    71850\n",
              "28    70460\n",
              "19    69880\n",
              "11    69480\n",
              "13    68530\n",
              "7     68350\n",
              "2     68320\n",
              "4     67400\n",
              "16    66840\n",
              "1     66370\n",
              "25    65770\n",
              "8     65460\n",
              "22    64030\n",
              "23    64010\n",
              "21    63600\n",
              "29    63150\n",
              "3     62880\n",
              "30    62140\n",
              "9     61400\n",
              "20    61070\n",
              "5     60450\n",
              "17    60070\n",
              "10    58370\n",
              "26    56960\n",
              "Name: total_cost, dtype: int64"
            ]
          },
          "metadata": {
            "tags": []
          },
          "execution_count": 247
        }
      ]
    },
    {
      "cell_type": "code",
      "metadata": {
        "id": "9xoWf7JStN7Y",
        "colab_type": "code",
        "colab": {
          "base_uri": "https://localhost:8080/",
          "height": 561
        },
        "outputId": "f235f244-0d9e-4401-fd70-92c284643d97"
      },
      "source": [
        "#Most profitable partners top to bottom on basis without cancelled bookings costs\n",
        "df[df['is_canceled']==0].groupby('partner_ID')['total_cost'].sum().sort_values(ascending=False)"
      ],
      "execution_count": 248,
      "outputs": [
        {
          "output_type": "execute_result",
          "data": {
            "text/plain": [
              "partner_ID\n",
              "24    54330\n",
              "15    53100\n",
              "28    51940\n",
              "12    51100\n",
              "16    50950\n",
              "27    50230\n",
              "2     49690\n",
              "11    49300\n",
              "14    48540\n",
              "18    48200\n",
              "13    47370\n",
              "7     46500\n",
              "25    45970\n",
              "6     45930\n",
              "3     45700\n",
              "8     45360\n",
              "4     45240\n",
              "9     45160\n",
              "29    44650\n",
              "19    44520\n",
              "23    44090\n",
              "22    43990\n",
              "1     43940\n",
              "30    43880\n",
              "10    42700\n",
              "17    42520\n",
              "20    41160\n",
              "5     40050\n",
              "21    39350\n",
              "26    38480\n",
              "Name: total_cost, dtype: int64"
            ]
          },
          "metadata": {
            "tags": []
          },
          "execution_count": 248
        }
      ]
    },
    {
      "cell_type": "code",
      "metadata": {
        "id": "F3UrVGnLn8ZN",
        "colab_type": "code",
        "colab": {
          "base_uri": "https://localhost:8080/",
          "height": 561
        },
        "outputId": "835ef870-41d4-4822-ae81-5f931a669760"
      },
      "source": [
        "#Most profitable bookings without cancelled per partner\n",
        "df[df['is_canceled']==0].groupby('partner_ID')['total_cost'].max().sort_values(ascending=False)\n"
      ],
      "execution_count": 249,
      "outputs": [
        {
          "output_type": "execute_result",
          "data": {
            "text/plain": [
              "partner_ID\n",
              "11    4250\n",
              "24    3720\n",
              "30    1810\n",
              "4     1770\n",
              "28    1720\n",
              "7     1720\n",
              "18    1720\n",
              "3     1540\n",
              "5     1490\n",
              "12    1490\n",
              "2     1340\n",
              "25    1310\n",
              "13    1010\n",
              "1     1010\n",
              "21    1010\n",
              "14     940\n",
              "26     940\n",
              "27     930\n",
              "15     930\n",
              "16     910\n",
              "9      910\n",
              "6      910\n",
              "19     890\n",
              "22     880\n",
              "20     870\n",
              "29     860\n",
              "17     860\n",
              "10     860\n",
              "8      860\n",
              "23     740\n",
              "Name: total_cost, dtype: int64"
            ]
          },
          "metadata": {
            "tags": []
          },
          "execution_count": 249
        }
      ]
    },
    {
      "cell_type": "code",
      "metadata": {
        "id": "CLv8WM_t3vRW",
        "colab_type": "code",
        "colab": {
          "base_uri": "https://localhost:8080/",
          "height": 561
        },
        "outputId": "c6c0e373-f98e-41fa-9b9f-9004c4c30e03"
      },
      "source": [
        "#Total bookings per partner\n",
        "df.groupby('partner_ID')['total_cost'].count().sort_values(ascending=False)"
      ],
      "execution_count": 250,
      "outputs": [
        {
          "output_type": "execute_result",
          "data": {
            "text/plain": [
              "partner_ID\n",
              "15    282\n",
              "6     277\n",
              "12    272\n",
              "13    263\n",
              "24    258\n",
              "8     256\n",
              "14    252\n",
              "2     248\n",
              "27    247\n",
              "23    245\n",
              "18    245\n",
              "21    244\n",
              "9     242\n",
              "1     241\n",
              "7     240\n",
              "28    240\n",
              "25    238\n",
              "19    236\n",
              "4     236\n",
              "22    233\n",
              "16    232\n",
              "3     230\n",
              "20    229\n",
              "11    227\n",
              "5     226\n",
              "30    226\n",
              "29    223\n",
              "17    221\n",
              "10    210\n",
              "26    208\n",
              "Name: total_cost, dtype: int64"
            ]
          },
          "metadata": {
            "tags": []
          },
          "execution_count": 250
        }
      ]
    },
    {
      "cell_type": "code",
      "metadata": {
        "id": "SA8XWota3Xip",
        "colab_type": "code",
        "colab": {
          "base_uri": "https://localhost:8080/",
          "height": 561
        },
        "outputId": "1c4bda14-c170-4f70-f2e5-224de6063563"
      },
      "source": [
        "#\n",
        "df[df['is_canceled']==1].groupby('partner_ID')['total_cost'].max().sort_values(ascending=False)"
      ],
      "execution_count": 251,
      "outputs": [
        {
          "output_type": "execute_result",
          "data": {
            "text/plain": [
              "partner_ID\n",
              "4     1720\n",
              "14    1560\n",
              "8     1490\n",
              "11    1470\n",
              "1     1290\n",
              "13    1290\n",
              "18    1290\n",
              "19    1290\n",
              "21    1220\n",
              "3     1150\n",
              "26    1140\n",
              "7     1060\n",
              "6     1060\n",
              "27    1060\n",
              "10    1060\n",
              "20     910\n",
              "16     910\n",
              "9      860\n",
              "2      860\n",
              "30     860\n",
              "12     860\n",
              "29     860\n",
              "23     860\n",
              "25     860\n",
              "28     860\n",
              "15     860\n",
              "17     760\n",
              "22     710\n",
              "24     710\n",
              "5      620\n",
              "Name: total_cost, dtype: int64"
            ]
          },
          "metadata": {
            "tags": []
          },
          "execution_count": 251
        }
      ]
    },
    {
      "cell_type": "code",
      "metadata": {
        "id": "Sbw4zCGdX_dy",
        "colab_type": "code",
        "colab": {
          "base_uri": "https://localhost:8080/",
          "height": 476
        },
        "outputId": "1f89f06e-3487-4edd-d1c7-2b2f36ff4802"
      },
      "source": [
        "df.groupby(['partner_ID','arrival_date_year'])['partner_ID'].count().sort_values(ascending=True).head(25)\n",
        "#df.groupby(['partner_ID','arrival_date_month','arrival_date_year'])['partner_ID'].filter(lambda x: len(x) > 15)"
      ],
      "execution_count": 252,
      "outputs": [
        {
          "output_type": "execute_result",
          "data": {
            "text/plain": [
              "partner_ID  arrival_date_year\n",
              "11          2015                 36\n",
              "30          2015                 41\n",
              "22          2015                 42\n",
              "26          2015                 42\n",
              "29          2015                 44\n",
              "4           2015                 44\n",
              "1           2015                 45\n",
              "17          2015                 45\n",
              "16          2015                 46\n",
              "10          2015                 47\n",
              "5           2015                 49\n",
              "20          2015                 50\n",
              "3           2015                 50\n",
              "15          2015                 50\n",
              "14          2015                 51\n",
              "13          2015                 51\n",
              "23          2015                 52\n",
              "25          2015                 53\n",
              "2           2015                 53\n",
              "27          2015                 53\n",
              "9           2015                 53\n",
              "18          2015                 57\n",
              "21          2015                 58\n",
              "8           2015                 58\n",
              "12          2015                 59\n",
              "Name: partner_ID, dtype: int64"
            ]
          },
          "metadata": {
            "tags": []
          },
          "execution_count": 252
        }
      ]
    },
    {
      "cell_type": "code",
      "metadata": {
        "id": "CPuVS84RrlI3",
        "colab_type": "code",
        "colab": {
          "base_uri": "https://localhost:8080/",
          "height": 731
        },
        "outputId": "469e2185-4e85-4363-d938-7ff4c7ebd611"
      },
      "source": [
        "df[df['arrival_date_year']==2017].groupby(['partner_ID','arrival_date_month'])['partner_ID'].sum().sort_values(ascending=False).head(40)"
      ],
      "execution_count": 253,
      "outputs": [
        {
          "output_type": "execute_result",
          "data": {
            "text/plain": [
              "partner_ID  arrival_date_month\n",
              "29          5                     464\n",
              "30          8                     450\n",
              "            6                     420\n",
              "            7                     420\n",
              "27          0                     405\n",
              "29          1                     377\n",
              "25          1                     375\n",
              "23          1                     368\n",
              "28          0                     364\n",
              "25          0                     350\n",
              "23          7                     345\n",
              "24          0                     336\n",
              "            7                     336\n",
              "30          1                     330\n",
              "27          8                     324\n",
              "            6                     324\n",
              "            5                     324\n",
              "21          3                     315\n",
              "24          6                     312\n",
              "22          8                     308\n",
              "28          6                     308\n",
              "            5                     308\n",
              "25          6                     300\n",
              "18          6                     288\n",
              "26          6                     286\n",
              "19          5                     285\n",
              "28          8                     280\n",
              "23          5                     276\n",
              "21          1                     273\n",
              "15          0                     270\n",
              "19          1                     266\n",
              "24          8                     264\n",
              "            5                     264\n",
              "22          0                     264\n",
              "            1                     264\n",
              "29          8                     261\n",
              "26          7                     260\n",
              "15          3                     255\n",
              "28          1                     252\n",
              "25          8                     250\n",
              "Name: partner_ID, dtype: int64"
            ]
          },
          "metadata": {
            "tags": []
          },
          "execution_count": 253
        }
      ]
    },
    {
      "cell_type": "code",
      "metadata": {
        "id": "GcrVxBZ87aRg",
        "colab_type": "code",
        "colab": {
          "base_uri": "https://localhost:8080/",
          "height": 561
        },
        "outputId": "d9ae9770-50b6-41a7-83cb-1b3e307ed6c8"
      },
      "source": [
        "#,'arrival_date_day_of_month'\n",
        "dft=df\n",
        "(dft[(dft['arrival_date_year']==2017) & (dft['is_canceled']==0)].groupby(['partner_ID'])['stays_in_week_nights'].sum() + \n",
        " (dft[(dft['arrival_date_year']==2017) & (dft['is_canceled']==0)].groupby(['partner_ID'])['stays_in_weekend_nights'].sum())).sort_values(ascending=False).head(40)"
      ],
      "execution_count": 254,
      "outputs": [
        {
          "output_type": "execute_result",
          "data": {
            "text/plain": [
              "partner_ID\n",
              "24    286\n",
              "13    269\n",
              "14    262\n",
              "12    262\n",
              "4     262\n",
              "27    259\n",
              "16    257\n",
              "6     255\n",
              "15    253\n",
              "3     250\n",
              "18    247\n",
              "10    242\n",
              "8     241\n",
              "2     235\n",
              "22    233\n",
              "19    232\n",
              "11    231\n",
              "30    226\n",
              "25    225\n",
              "23    223\n",
              "17    210\n",
              "5     207\n",
              "1     204\n",
              "26    203\n",
              "28    203\n",
              "9     195\n",
              "20    188\n",
              "29    182\n",
              "7     166\n",
              "21    161\n",
              "dtype: int64"
            ]
          },
          "metadata": {
            "tags": []
          },
          "execution_count": 254
        }
      ]
    },
    {
      "cell_type": "code",
      "metadata": {
        "id": "Xy58M6SjbtFZ",
        "colab_type": "code",
        "colab": {
          "base_uri": "https://localhost:8080/",
          "height": 561
        },
        "outputId": "ff1c5cfa-b0a6-4f0b-df01-f9ae29e5f46f"
      },
      "source": [
        "(dft[(dft['arrival_date_year']==2017) & (dft['is_canceled']==1)].groupby(['partner_ID'])['stays_in_week_nights'].sum() + \n",
        " (dft[(dft['arrival_date_year']==2017) & (dft['is_canceled']==1)].groupby(['partner_ID'])['stays_in_weekend_nights'].sum())).sort_values(ascending=False).head(40)"
      ],
      "execution_count": 255,
      "outputs": [
        {
          "output_type": "execute_result",
          "data": {
            "text/plain": [
              "partner_ID\n",
              "1     190\n",
              "6     181\n",
              "14    177\n",
              "15    165\n",
              "29    154\n",
              "7     147\n",
              "18    144\n",
              "27    143\n",
              "11    142\n",
              "21    133\n",
              "23    129\n",
              "20    126\n",
              "19    125\n",
              "17    124\n",
              "26    119\n",
              "22    114\n",
              "9     114\n",
              "4     113\n",
              "2     113\n",
              "25    111\n",
              "24    111\n",
              "28    107\n",
              "8     102\n",
              "12     98\n",
              "5      92\n",
              "3      89\n",
              "30     89\n",
              "13     84\n",
              "16     82\n",
              "10     79\n",
              "dtype: int64"
            ]
          },
          "metadata": {
            "tags": []
          },
          "execution_count": 255
        }
      ]
    },
    {
      "cell_type": "code",
      "metadata": {
        "id": "xIBMYCWbc5Dj",
        "colab_type": "code",
        "colab": {
          "base_uri": "https://localhost:8080/",
          "height": 731
        },
        "outputId": "0d26ae1d-7326-48b3-9a87-f4b371476234"
      },
      "source": [
        "(dft[(dft['arrival_date_year']==2017) & (dft['is_canceled']==0)].groupby(['partner_ID','arrival_date_month'])['stays_in_week_nights'].sum() + \n",
        " (dft[(dft['arrival_date_year']==2017) & (dft['is_canceled']==0)].groupby(['partner_ID','arrival_date_month'])['stays_in_weekend_nights'].sum())).sort_values(ascending=False).head(40)"
      ],
      "execution_count": 256,
      "outputs": [
        {
          "output_type": "execute_result",
          "data": {
            "text/plain": [
              "partner_ID  arrival_date_month\n",
              "24          7                     81\n",
              "12          7                     78\n",
              "19          5                     73\n",
              "25          0                     70\n",
              "24          0                     64\n",
              "30          7                     61\n",
              "12          6                     61\n",
              "3           5                     61\n",
              "11          5                     59\n",
              "17          0                     57\n",
              "18          5                     57\n",
              "16          6                     57\n",
              "4           7                     57\n",
              "16          1                     56\n",
              "4           1                     54\n",
              "27          8                     53\n",
              "6           7                     52\n",
              "30          6                     51\n",
              "14          0                     50\n",
              "5           1                     50\n",
              "23          1                     49\n",
              "8           8                     49\n",
              "3           7                     48\n",
              "25          1                     47\n",
              "20          8                     46\n",
              "15          0                     46\n",
              "26          8                     45\n",
              "18          8                     45\n",
              "2           5                     45\n",
              "            8                     45\n",
              "15          5                     44\n",
              "27          6                     44\n",
              "11          7                     43\n",
              "14          7                     43\n",
              "3           6                     43\n",
              "13          0                     43\n",
              "22          1                     43\n",
              "28          6                     43\n",
              "11          6                     42\n",
              "24          5                     42\n",
              "dtype: int64"
            ]
          },
          "metadata": {
            "tags": []
          },
          "execution_count": 256
        }
      ]
    },
    {
      "cell_type": "code",
      "metadata": {
        "id": "5bzUYmHPCO0l",
        "colab_type": "code",
        "colab": {
          "base_uri": "https://localhost:8080/",
          "height": 561
        },
        "outputId": "03546c8d-7744-446a-b6e8-3a0ffce45dcd"
      },
      "source": [
        "dft[(dft['arrival_date_year']==2017) & (dft['is_canceled']==1)].groupby(['partner_ID'])['total_cost'].max()\n"
      ],
      "execution_count": 257,
      "outputs": [
        {
          "output_type": "execute_result",
          "data": {
            "text/plain": [
              "partner_ID\n",
              "1     1290\n",
              "2      860\n",
              "3      480\n",
              "4      860\n",
              "5      480\n",
              "6     1060\n",
              "7     1060\n",
              "8     1490\n",
              "9      640\n",
              "10    1060\n",
              "11    1470\n",
              "12     670\n",
              "13     530\n",
              "14    1560\n",
              "15     860\n",
              "16     600\n",
              "17     760\n",
              "18    1080\n",
              "19     810\n",
              "20     910\n",
              "21     600\n",
              "22     710\n",
              "23     660\n",
              "24     710\n",
              "25     860\n",
              "26     880\n",
              "27    1060\n",
              "28     430\n",
              "29     860\n",
              "30     480\n",
              "Name: total_cost, dtype: int64"
            ]
          },
          "metadata": {
            "tags": []
          },
          "execution_count": 257
        }
      ]
    }
  ]
}
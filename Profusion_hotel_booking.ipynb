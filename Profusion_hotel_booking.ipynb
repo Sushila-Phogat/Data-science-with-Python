{
  "nbformat": 4,
  "nbformat_minor": 0,
  "metadata": {
    "colab": {
      "name": "Profusion_hotel_booking.ipynb",
      "provenance": [],
      "authorship_tag": "ABX9TyOgtWpb5dmqsu7QUw/rumd7",
      "include_colab_link": true
    },
    "kernelspec": {
      "name": "python3",
      "display_name": "Python 3"
    }
  },
  "cells": [
    {
      "cell_type": "markdown",
      "metadata": {
        "id": "view-in-github",
        "colab_type": "text"
      },
      "source": [
        "<a href=\"https://colab.research.google.com/github/Sushila-Phogat/Data-science-with-Python/blob/master/Profusion_hotel_booking.ipynb\" target=\"_parent\"><img src=\"https://colab.research.google.com/assets/colab-badge.svg\" alt=\"Open In Colab\"/></a>"
      ]
    },
    {
      "cell_type": "code",
      "metadata": {
        "id": "_rX8iJ0sXd3u",
        "colab_type": "code",
        "colab": {
          "base_uri": "https://localhost:8080/",
          "height": 34
        },
        "outputId": "f8a58dbc-720c-4d50-8b65-030ab34cccf6"
      },
      "source": [
        "import datetime\n",
        "import pandas as pd\n",
        "import numpy as np\n",
        "import matplotlib.pyplot as plt\n",
        "import seaborn as sns\n",
        "\n",
        "df = pd.read_csv('https://raw.githubusercontent.com/Sushila-Phogat/Data-science-with-Python/master/hotel_bookings.csv')\n",
        "\n",
        "df['hotel'].unique()"
      ],
      "execution_count": 89,
      "outputs": [
        {
          "output_type": "execute_result",
          "data": {
            "text/plain": [
              "array(['Resort Hotel', 'City Hotel'], dtype=object)"
            ]
          },
          "metadata": {
            "tags": []
          },
          "execution_count": 89
        }
      ]
    },
    {
      "cell_type": "code",
      "metadata": {
        "id": "pyJcc0eW8ydo",
        "colab_type": "code",
        "colab": {}
      },
      "source": [
        "df=df[df['hotel']=='Resort Hotel']"
      ],
      "execution_count": 0,
      "outputs": []
    },
    {
      "cell_type": "code",
      "metadata": {
        "id": "JmazuXnhuuL8",
        "colab_type": "code",
        "colab": {
          "base_uri": "https://localhost:8080/",
          "height": 85
        },
        "outputId": "c65a08de-8d15-4294-c182-4bbe7a278e95"
      },
      "source": [
        "df.groupby('is_canceled').size()"
      ],
      "execution_count": 91,
      "outputs": [
        {
          "output_type": "execute_result",
          "data": {
            "text/plain": [
              "is_canceled\n",
              "0    5147\n",
              "1    2080\n",
              "dtype: int64"
            ]
          },
          "metadata": {
            "tags": []
          },
          "execution_count": 91
        }
      ]
    },
    {
      "cell_type": "code",
      "metadata": {
        "id": "QH4X5r7dmXDc",
        "colab_type": "code",
        "colab": {
          "base_uri": "https://localhost:8080/",
          "height": 561
        },
        "outputId": "774bae9f-70fe-41f8-9109-3af948509045"
      },
      "source": [
        "df.groupby('partner_ID')['total_cost'].sum().sort_values(ascending=False)"
      ],
      "execution_count": 92,
      "outputs": [
        {
          "output_type": "execute_result",
          "data": {
            "text/plain": [
              "partner_ID\n",
              "6     76990\n",
              "15    74780\n",
              "12    74680\n",
              "18    74430\n",
              "24    73930\n",
              "27    73030\n",
              "14    71850\n",
              "28    70460\n",
              "19    69880\n",
              "11    69480\n",
              "13    68530\n",
              "7     68350\n",
              "2     68320\n",
              "4     67400\n",
              "16    66840\n",
              "1     66370\n",
              "25    65770\n",
              "8     65460\n",
              "22    64030\n",
              "23    64010\n",
              "21    63600\n",
              "29    63150\n",
              "3     62880\n",
              "30    62140\n",
              "9     61400\n",
              "20    61070\n",
              "5     60450\n",
              "17    60070\n",
              "10    58370\n",
              "26    56960\n",
              "Name: total_cost, dtype: int64"
            ]
          },
          "metadata": {
            "tags": []
          },
          "execution_count": 92
        }
      ]
    },
    {
      "cell_type": "code",
      "metadata": {
        "id": "9xoWf7JStN7Y",
        "colab_type": "code",
        "colab": {
          "base_uri": "https://localhost:8080/",
          "height": 561
        },
        "outputId": "2eb4bd99-877f-4745-ea34-c08cef890196"
      },
      "source": [
        "df[df['is_canceled']==0].groupby('partner_ID')['total_cost'].sum().sort_values(ascending=False)"
      ],
      "execution_count": 75,
      "outputs": [
        {
          "output_type": "execute_result",
          "data": {
            "text/plain": [
              "partner_ID\n",
              "2     108540\n",
              "28    108210\n",
              "3     104990\n",
              "15    104080\n",
              "14    103830\n",
              "24    103130\n",
              "12    102660\n",
              "7     102520\n",
              "16    101060\n",
              "13    100280\n",
              "29    100220\n",
              "17     99960\n",
              "11     99540\n",
              "27     99050\n",
              "20     98160\n",
              "6      97840\n",
              "25     97190\n",
              "5      96250\n",
              "8      96180\n",
              "26     95320\n",
              "23     94910\n",
              "19     94860\n",
              "18     94550\n",
              "22     93000\n",
              "10     92680\n",
              "1      92360\n",
              "9      92230\n",
              "30     89910\n",
              "21     89720\n",
              "4      87880\n",
              "Name: total_cost, dtype: int64"
            ]
          },
          "metadata": {
            "tags": []
          },
          "execution_count": 75
        }
      ]
    },
    {
      "cell_type": "code",
      "metadata": {
        "id": "F3UrVGnLn8ZN",
        "colab_type": "code",
        "colab": {
          "base_uri": "https://localhost:8080/",
          "height": 561
        },
        "outputId": "4685b26f-9ab8-4e86-e115-7cb78b714ca3"
      },
      "source": [
        "df[df['is_canceled']==0].groupby('partner_ID')['total_cost'].max().sort_values(ascending=False)\n"
      ],
      "execution_count": 93,
      "outputs": [
        {
          "output_type": "execute_result",
          "data": {
            "text/plain": [
              "partner_ID\n",
              "11    4250\n",
              "24    3720\n",
              "30    1810\n",
              "4     1770\n",
              "28    1720\n",
              "7     1720\n",
              "18    1720\n",
              "3     1540\n",
              "5     1490\n",
              "12    1490\n",
              "2     1340\n",
              "25    1310\n",
              "13    1010\n",
              "1     1010\n",
              "21    1010\n",
              "14     940\n",
              "26     940\n",
              "27     930\n",
              "15     930\n",
              "16     910\n",
              "9      910\n",
              "6      910\n",
              "19     890\n",
              "22     880\n",
              "20     870\n",
              "29     860\n",
              "17     860\n",
              "10     860\n",
              "8      860\n",
              "23     740\n",
              "Name: total_cost, dtype: int64"
            ]
          },
          "metadata": {
            "tags": []
          },
          "execution_count": 93
        }
      ]
    },
    {
      "cell_type": "code",
      "metadata": {
        "id": "CLv8WM_t3vRW",
        "colab_type": "code",
        "colab": {
          "base_uri": "https://localhost:8080/",
          "height": 561
        },
        "outputId": "461790d5-a486-47a5-d210-1682cf94b514"
      },
      "source": [
        "df[df['is_canceled']==1].groupby('partner_ID')['total_cost'].count().sort_values(ascending=False)"
      ],
      "execution_count": 79,
      "outputs": [
        {
          "output_type": "execute_result",
          "data": {
            "text/plain": [
              "partner_ID\n",
              "21    305\n",
              "24    288\n",
              "7     284\n",
              "18    284\n",
              "19    280\n",
              "6     277\n",
              "4     272\n",
              "12    272\n",
              "20    269\n",
              "29    265\n",
              "11    265\n",
              "8     265\n",
              "13    264\n",
              "1     264\n",
              "5     257\n",
              "23    257\n",
              "25    256\n",
              "27    256\n",
              "26    255\n",
              "22    252\n",
              "30    251\n",
              "16    250\n",
              "3     250\n",
              "9     246\n",
              "28    244\n",
              "14    243\n",
              "15    243\n",
              "17    240\n",
              "10    239\n",
              "2     239\n",
              "Name: total_cost, dtype: int64"
            ]
          },
          "metadata": {
            "tags": []
          },
          "execution_count": 79
        }
      ]
    },
    {
      "cell_type": "code",
      "metadata": {
        "id": "SA8XWota3Xip",
        "colab_type": "code",
        "colab": {
          "base_uri": "https://localhost:8080/",
          "height": 561
        },
        "outputId": "6c8bb02f-18ce-44c1-a505-577228ef5f28"
      },
      "source": [
        "df[df['is_canceled']==1].groupby('partner_ID')['total_cost'].max().sort_values(ascending=False)"
      ],
      "execution_count": 94,
      "outputs": [
        {
          "output_type": "execute_result",
          "data": {
            "text/plain": [
              "partner_ID\n",
              "4     1720\n",
              "14    1560\n",
              "8     1490\n",
              "11    1470\n",
              "1     1290\n",
              "13    1290\n",
              "18    1290\n",
              "19    1290\n",
              "21    1220\n",
              "3     1150\n",
              "26    1140\n",
              "7     1060\n",
              "6     1060\n",
              "27    1060\n",
              "10    1060\n",
              "20     910\n",
              "16     910\n",
              "9      860\n",
              "2      860\n",
              "30     860\n",
              "12     860\n",
              "29     860\n",
              "23     860\n",
              "25     860\n",
              "28     860\n",
              "15     860\n",
              "17     760\n",
              "22     710\n",
              "24     710\n",
              "5      620\n",
              "Name: total_cost, dtype: int64"
            ]
          },
          "metadata": {
            "tags": []
          },
          "execution_count": 94
        }
      ]
    },
    {
      "cell_type": "code",
      "metadata": {
        "id": "ag7YbgF5cx7g",
        "colab_type": "code",
        "colab": {
          "base_uri": "https://localhost:8080/",
          "height": 609
        },
        "outputId": "97748541-fdf0-4399-d647-f55c677e4fa3"
      },
      "source": [
        "\n",
        "df.groupby(['partner_ID','is_canceled']).size().unstack().plot(kind='bar',stacked=True, figsize=(15,10))\n",
        "plt.show()"
      ],
      "execution_count": 95,
      "outputs": [
        {
          "output_type": "display_data",
          "data": {
            "image/png": "[encoded data removed]",
            "text/plain": [
              "<Figure size 1080x720 with 1 Axes>"
            ]
          },
          "metadata": {
            "tags": []
          }
        }
      ]
    },
    {
      "cell_type": "code",
      "metadata": {
        "id": "cQGujWn8k-me",
        "colab_type": "code",
        "colab": {
          "base_uri": "https://localhost:8080/",
          "height": 651
        },
        "outputId": "2ee8f2ce-910a-4a71-d51e-8d885d1fd604"
      },
      "source": [
        "df.groupby(['arrival_date_month','is_canceled']).size().unstack().plot(kind='bar',stacked=False, figsize=(15,10))\n",
        "plt.show()"
      ],
      "execution_count": 96,
      "outputs": [
        {
          "output_type": "display_data",
          "data": {
            "image/png": "[encoded data removed]",
            "text/plain": [
              "<Figure size 1080x720 with 1 Axes>"
            ]
          },
          "metadata": {
            "tags": []
          }
        }
      ]
    },
    {
      "cell_type": "code",
      "metadata": {
        "id": "JsjmjrQ9xuTa",
        "colab_type": "code",
        "colab": {}
      },
      "source": [
        "plt.figure(figsize=(20,5))\n",
        "\n",
        "sns.catplot(\n",
        "    data=df,\n",
        "    x='Country',\n",
        "    y='medal count',\n",
        "    hue='Medal',\n",
        "    kind='box')"
      ],
      "execution_count": 0,
      "outputs": []
    }
  ]
}